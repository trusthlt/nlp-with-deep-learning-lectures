{
 "cells": [
  {
   "cell_type": "code",
   "execution_count": null,
   "id": "initial_id",
   "metadata": {
    "collapsed": true
   },
   "outputs": [],
   "source": [
    "import re\n",
    "\n",
    "def load_all_names() -> list[str]:\n",
    "    # Task 1: Load all names and lower-case them\n",
    "    result = []\n",
    "    \n",
    "    return result\n",
    "\n",
    "all_names = load_all_names()\n",
    "print(all_names[:20])\n",
    "print(len(all_names))"
   ]
  },
  {
   "cell_type": "code",
   "execution_count": null,
   "outputs": [],
   "source": [
    "# Just exploring character bi-gram counts\n",
    "b = {}\n",
    "for w in all_names:\n",
    "  chs = ['<S>'] + list(w) + ['<E>']\n",
    "  for ch1, ch2 in zip(chs, chs[1:]):\n",
    "    bigram = (ch1, ch2)\n",
    "    b[bigram] = b.get(bigram, 0) + 1\n",
    "\n",
    "# sort by value, reverse\n",
    "sorted(b.items(), key = lambda kv: -kv[1])"
   ],
   "metadata": {
    "collapsed": false
   },
   "id": "6b86dc9dfc31c00b"
  },
  {
   "cell_type": "code",
   "execution_count": null,
   "outputs": [],
   "source": [
    "# Task 2: construct bigram counts tensor\n",
    "\n",
    "\n",
    "# All characters + one special character \".\" for both BOS and EOS\n",
    "\n",
    "chars = None\n",
    "print(chars)\n"
   ],
   "metadata": {
    "collapsed": false
   },
   "id": "a05aa98c9b98deb7"
  },
  {
   "cell_type": "code",
   "execution_count": null,
   "outputs": [],
   "source": [
    "# string to index, index to string\n",
    "str_to_idx = None\n",
    "idx_to_str = None\n",
    "print(str_to_idx)\n",
    "print(idx_to_str)\n"
   ],
   "metadata": {
    "collapsed": false
   },
   "id": "176568f1d76573c7"
  },
  {
   "cell_type": "code",
   "execution_count": null,
   "outputs": [],
   "source": [
    "import torch\n",
    "bigram_count_matrix = None\n",
    "\n",
    "\n",
    "print(bigram_count_matrix)\n"
   ],
   "metadata": {
    "collapsed": false
   },
   "id": "365bb2a8cb390fde"
  },
  {
   "cell_type": "code",
   "execution_count": null,
   "outputs": [],
   "source": [
    "# Visualise bigram count matrix\n",
    "import matplotlib.pyplot as plt\n",
    "%matplotlib inline\n",
    "\n",
    "plt.figure(figsize=(16,16))\n",
    "plt.imshow(bigram_count_matrix, cmap='Blues')\n",
    "for i in range(len(chars)):\n",
    "    for j in range(len(chars)):\n",
    "        chstr = idx_to_str[i] + idx_to_str[j]\n",
    "        plt.text(j, i, chstr, ha=\"center\", va=\"bottom\", color='gray')\n",
    "        plt.text(j, i, bigram_count_matrix[i, j].item(), ha=\"center\", va=\"top\", color='gray')\n",
    "plt.axis('off');"
   ],
   "metadata": {
    "collapsed": false
   },
   "id": "b41894fed4be03c8"
  },
  {
   "cell_type": "code",
   "execution_count": null,
   "outputs": [],
   "source": [
    "# Task 3: Create bigram conditional probability matrix\n",
    "\n",
    "# First do it for the first row and sample the first character\n",
    "\n",
    "p = None\n",
    "p"
   ],
   "metadata": {
    "collapsed": false
   },
   "id": "7d9240b3e2492648"
  },
  {
   "cell_type": "code",
   "execution_count": null,
   "outputs": [],
   "source": [
    "g = torch.Generator().manual_seed(42)\n",
    "ix = torch.multinomial(p, num_samples=1, replacement=True, generator=g).item()\n",
    "idx_to_str[ix]"
   ],
   "metadata": {
    "collapsed": false
   },
   "id": "31fa957e183a45f0"
  },
  {
   "cell_type": "code",
   "execution_count": null,
   "outputs": [],
   "source": [
    "# Now pre-compute the conditional probs for each row\n",
    "\n",
    "# Use \"add-one\" smoothing!! so each value in the bigram count matrix is increased artificially by one\n",
    "cond_probs_matrix = None"
   ],
   "metadata": {
    "collapsed": false
   },
   "id": "45319294aadda247"
  },
  {
   "cell_type": "code",
   "execution_count": null,
   "outputs": [],
   "source": [
    "cond_probs_matrix"
   ],
   "metadata": {
    "collapsed": false
   },
   "id": "8147ea512a56a1b5"
  },
  {
   "cell_type": "code",
   "execution_count": null,
   "outputs": [],
   "source": [
    "# Task 4: Generate random \"names\"\n",
    "\n",
    "g = torch.Generator().manual_seed(42)\n",
    "\n",
    "for i in range(25):\n",
    "    out = None\n",
    "    print(''.join(out))\n",
    "\n"
   ],
   "metadata": {
    "collapsed": false
   },
   "id": "97a28ba823d000e6"
  },
  {
   "cell_type": "code",
   "execution_count": null,
   "outputs": [],
   "source": [],
   "metadata": {
    "collapsed": false
   },
   "id": "9908246e33677f0"
  }
 ],
 "metadata": {
  "kernelspec": {
   "display_name": "Python 3",
   "language": "python",
   "name": "python3"
  },
  "language_info": {
   "codemirror_mode": {
    "name": "ipython",
    "version": 2
   },
   "file_extension": ".py",
   "mimetype": "text/x-python",
   "name": "python",
   "nbconvert_exporter": "python",
   "pygments_lexer": "ipython2",
   "version": "2.7.6"
  }
 },
 "nbformat": 4,
 "nbformat_minor": 5
}
