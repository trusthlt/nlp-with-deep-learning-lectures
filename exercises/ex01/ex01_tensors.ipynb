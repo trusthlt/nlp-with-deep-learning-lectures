{
 "nbformat": 4,
 "nbformat_minor": 0,
 "metadata": {
  "colab": {
   "provenance": []
  },
  "kernelspec": {
   "name": "python3",
   "language": "python",
   "display_name": "Python 3 (ipykernel)"
  }
 },
 "cells": [
  {
   "cell_type": "code",
   "metadata": {
    "id": "esUnEES4WrHJ",
    "ExecuteTime": {
     "end_time": "2023-11-23T09:26:22.329464Z",
     "start_time": "2023-11-23T09:26:22.211247Z"
    }
   },
   "source": [],
   "execution_count": 76,
   "outputs": []
  },
  {
   "cell_type": "markdown",
   "metadata": {
    "id": "GEyk23HEaqyz"
   },
   "source": []
  },
  {
   "cell_type": "code",
   "metadata": {
    "id": "lnUtRCsFW1lF",
    "outputId": "db0edb52-a829-4487-9237-96175f905e02",
    "colab": {
     "base_uri": "https://localhost:8080/",
     "height": 34
    },
    "ExecuteTime": {
     "end_time": "2023-11-23T09:26:22.924312Z",
     "start_time": "2023-11-23T09:26:22.245317Z"
    }
   },
   "source": [
    "import torch\n",
    "print(torch.__version__)"
   ],
   "execution_count": 77,
   "outputs": [
    {
     "name": "stdout",
     "output_type": "stream",
     "text": [
      "2.1.1\n"
     ]
    }
   ]
  },
  {
   "cell_type": "code",
   "metadata": {
    "id": "hrKoVRxWW83P",
    "outputId": "7219b2f8-8e38-4851-9de5-a585ff4a437f",
    "colab": {
     "base_uri": "https://localhost:8080/",
     "height": 34
    },
    "ExecuteTime": {
     "end_time": "2023-11-23T09:26:22.924648Z",
     "start_time": "2023-11-23T09:26:22.247435Z"
    }
   },
   "source": [],
   "execution_count": 77,
   "outputs": []
  },
  {
   "cell_type": "code",
   "metadata": {
    "id": "dHfhTFlgu1wl",
    "outputId": "3ae4031d-2b2b-4de5-b3ff-c09d2c10fa15",
    "colab": {
     "base_uri": "https://localhost:8080/",
     "height": 34
    },
    "ExecuteTime": {
     "end_time": "2023-11-23T09:26:22.924793Z",
     "start_time": "2023-11-23T09:26:22.249082Z"
    }
   },
   "source": [
    "# What does this torch.tensor() return?\n",
    "tensor = torch.tensor([1, 2, 3, 4, 5, 6])\n",
    "tensor\n",
    "\n",
    "# Constant 1-D Tensor populated with value list"
   ],
   "execution_count": 78,
   "outputs": [
    {
     "data": {
      "text/plain": "tensor([1, 2, 3, 4, 5, 6])"
     },
     "execution_count": 78,
     "metadata": {},
     "output_type": "execute_result"
    }
   ]
  },
  {
   "cell_type": "code",
   "metadata": {
    "id": "6IGXimxFvLlg",
    "outputId": "17b0227a-054b-4c01-cb4d-543bb720a381",
    "colab": {
     "base_uri": "https://localhost:8080/",
     "height": 34
    },
    "ExecuteTime": {
     "end_time": "2023-11-23T09:26:22.924905Z",
     "start_time": "2023-11-23T09:26:22.252309Z"
    }
   },
   "source": [
    "# What is the shape of the resulting tensor?\n",
    "tensor = torch.tensor([1, 2, 3, 4, 5, 6])\n",
    "tensor.shape\n",
    "\n",
    "# Size object"
   ],
   "execution_count": 79,
   "outputs": [
    {
     "data": {
      "text/plain": "torch.Size([6])"
     },
     "execution_count": 79,
     "metadata": {},
     "output_type": "execute_result"
    }
   ]
  },
  {
   "cell_type": "code",
   "metadata": {
    "id": "ZTQDKKei0JNG",
    "outputId": "4df4ddb7-2471-4608-92df-5ef7404b5882",
    "colab": {
     "base_uri": "https://localhost:8080/",
     "height": 68
    },
    "ExecuteTime": {
     "end_time": "2023-11-23T09:26:22.925032Z",
     "start_time": "2023-11-23T09:26:22.257273Z"
    }
   },
   "source": [
    "# What is the content of the resulting Tensor?\n",
    "tensor = torch.tensor([1, 2, 3, 4, 5, 6])\n",
    "tensor = torch.reshape(tensor, (2, 3))\n",
    "tensor\n",
    "# A 2x3 matrix (two rows = the first dim, three\n",
    "# columns = the second dim)"
   ],
   "execution_count": 80,
   "outputs": [
    {
     "data": {
      "text/plain": "tensor([[1, 2, 3],\n        [4, 5, 6]])"
     },
     "execution_count": 80,
     "metadata": {},
     "output_type": "execute_result"
    }
   ]
  },
  {
   "cell_type": "code",
   "metadata": {
    "id": "9qYr9g1w0oie",
    "outputId": "7f41b571-0cad-4caf-9a54-50ca0cea6837",
    "colab": {
     "base_uri": "https://localhost:8080/",
     "height": 85
    },
    "ExecuteTime": {
     "end_time": "2023-11-23T09:26:23.328117Z",
     "start_time": "2023-11-23T09:26:22.260035Z"
    }
   },
   "source": [
    "# What is the content of the resulting Tensor?\n",
    "tensor = torch.tensor([1, 2, 3, 4, 5, 6])\n",
    "tensor = torch.reshape(tensor, (3, 2))\n",
    "tensor\n",
    "# A 3x2 matrix (three rows = the first dim,\n",
    "# two columns = the second dim)"
   ],
   "execution_count": 81,
   "outputs": [
    {
     "data": {
      "text/plain": "tensor([[1, 2],\n        [3, 4],\n        [5, 6]])"
     },
     "execution_count": 81,
     "metadata": {},
     "output_type": "execute_result"
    }
   ]
  },
  {
   "cell_type": "code",
   "metadata": {
    "id": "5lN2gAHQfMWH",
    "outputId": "d8868eb9-7852-4d59-8bbb-db5bb528f52b",
    "colab": {
     "base_uri": "https://localhost:8080/",
     "height": 170
    },
    "ExecuteTime": {
     "end_time": "2023-11-23T09:26:23.329983Z",
     "start_time": "2023-11-23T09:26:22.268606Z"
    }
   },
   "source": [
    "# What is the content of the resulting Tensor?\n",
    "tensor = torch.tensor([1, 2, 3, 4, 5, 6])\n",
    "tensor = torch.reshape(tensor, shape=(3, 2, 1))\n",
    "tensor\n",
    "# 3-D Tensor"
   ],
   "execution_count": 82,
   "outputs": [
    {
     "data": {
      "text/plain": "tensor([[[1],\n         [2]],\n\n        [[3],\n         [4]],\n\n        [[5],\n         [6]]])"
     },
     "execution_count": 82,
     "metadata": {},
     "output_type": "execute_result"
    }
   ]
  },
  {
   "cell_type": "code",
   "metadata": {
    "id": "-S6zogOBfbY5",
    "outputId": "3f2558a5-883b-49ed-ad79-6f853663d27f",
    "colab": {
     "base_uri": "https://localhost:8080/",
     "height": 119
    },
    "ExecuteTime": {
     "end_time": "2023-11-23T09:26:23.330147Z",
     "start_time": "2023-11-23T09:26:22.270488Z"
    }
   },
   "source": [
    "# What is the content of the resulting Tensor?\n",
    "tensor = torch.tensor([1, 2, 3, 4, 5, 6])\n",
    "tensor = torch.reshape(tensor, shape=(3, 1, 2))\n",
    "tensor\n",
    "# 3-D Tensor with the second dimension kind of superfluous"
   ],
   "execution_count": 83,
   "outputs": [
    {
     "data": {
      "text/plain": "tensor([[[1, 2]],\n\n        [[3, 4]],\n\n        [[5, 6]]])"
     },
     "execution_count": 83,
     "metadata": {},
     "output_type": "execute_result"
    }
   ]
  },
  {
   "cell_type": "code",
   "metadata": {
    "id": "pTrvYqt11gmY",
    "outputId": "a5ed0c02-2956-40bd-e2ec-670a0b709c63",
    "colab": {
     "base_uri": "https://localhost:8080/",
     "height": 68
    },
    "ExecuteTime": {
     "end_time": "2023-11-23T09:26:23.330259Z",
     "start_time": "2023-11-23T09:26:22.272271Z"
    }
   },
   "source": [],
   "execution_count": 83,
   "outputs": []
  },
  {
   "cell_type": "code",
   "metadata": {
    "id": "j8kug86G1ypG",
    "outputId": "c51f5609-bde1-47bd-f0c4-33b69da0b4d7",
    "colab": {
     "base_uri": "https://localhost:8080/",
     "height": 68
    },
    "ExecuteTime": {
     "end_time": "2023-11-23T09:26:23.330353Z",
     "start_time": "2023-11-23T09:26:22.274122Z"
    }
   },
   "source": [
    "# What is the output of torch.fill()?\n",
    "tensor = torch.full([2, 3], 9)\n",
    "tensor\n",
    "# A 2-rows 3-columns tensor populated with 9 as int"
   ],
   "execution_count": 84,
   "outputs": [
    {
     "data": {
      "text/plain": "tensor([[9, 9, 9],\n        [9, 9, 9]])"
     },
     "execution_count": 84,
     "metadata": {},
     "output_type": "execute_result"
    }
   ]
  },
  {
   "cell_type": "code",
   "metadata": {
    "id": "DsOBoaWX2cHG",
    "outputId": "05436766-2842-412d-f92d-74a4d06296a9",
    "colab": {
     "base_uri": "https://localhost:8080/",
     "height": 153
    },
    "ExecuteTime": {
     "end_time": "2023-11-23T09:26:23.330394Z",
     "start_time": "2023-11-23T09:26:22.276311Z"
    }
   },
   "source": [],
   "execution_count": 84,
   "outputs": []
  },
  {
   "cell_type": "code",
   "metadata": {
    "id": "zOfyqVjK_GAp",
    "outputId": "c753879d-330b-4426-d8a9-690f2064f75e",
    "colab": {
     "base_uri": "https://localhost:8080/",
     "height": 153
    },
    "ExecuteTime": {
     "end_time": "2023-11-23T09:26:23.330437Z",
     "start_time": "2023-11-23T09:26:22.277909Z"
    }
   },
   "source": [],
   "execution_count": 84,
   "outputs": []
  },
  {
   "cell_type": "code",
   "metadata": {
    "id": "x_6HdxKSfSdL",
    "ExecuteTime": {
     "end_time": "2023-11-23T09:26:23.831648Z",
     "start_time": "2023-11-23T09:26:22.279891Z"
    }
   },
   "source": [],
   "execution_count": 84,
   "outputs": []
  },
  {
   "cell_type": "code",
   "metadata": {
    "id": "vSRtArfTBpG_",
    "outputId": "ad571068-3156-496d-a064-3591ca7c0dc9",
    "colab": {
     "base_uri": "https://localhost:8080/",
     "height": 102
    },
    "ExecuteTime": {
     "end_time": "2023-11-23T09:26:23.831845Z",
     "start_time": "2023-11-23T09:26:22.288196Z"
    }
   },
   "source": [],
   "execution_count": 84,
   "outputs": []
  },
  {
   "cell_type": "code",
   "metadata": {
    "id": "cRoXj9KUgnNp",
    "outputId": "fb2182b5-4043-409b-b955-9f5152139c2d",
    "colab": {
     "base_uri": "https://localhost:8080/",
     "height": 68
    },
    "ExecuteTime": {
     "end_time": "2023-11-23T09:26:23.831915Z",
     "start_time": "2023-11-23T09:26:22.289832Z"
    }
   },
   "source": [],
   "execution_count": 84,
   "outputs": []
  },
  {
   "cell_type": "code",
   "metadata": {
    "id": "EIlDbHstiCJ4",
    "outputId": "87460cdb-aa21-4831-e815-6131a48157e7",
    "colab": {
     "base_uri": "https://localhost:8080/",
     "height": 119
    },
    "ExecuteTime": {
     "end_time": "2023-11-23T09:26:24.290847Z",
     "start_time": "2023-11-23T09:26:22.297112Z"
    }
   },
   "source": [],
   "execution_count": 84,
   "outputs": []
  },
  {
   "cell_type": "code",
   "metadata": {
    "id": "v7Z6VmbXf_6-",
    "outputId": "adf28c78-bead-4846-9ac7-8d1df95230ac",
    "colab": {
     "base_uri": "https://localhost:8080/",
     "height": 85
    },
    "ExecuteTime": {
     "end_time": "2023-11-23T09:26:24.291012Z",
     "start_time": "2023-11-23T09:26:22.299784Z"
    }
   },
   "source": [
    "# What is the output and shape of this code?\n",
    "x = torch.tensor([1, 4])\n",
    "y = torch.tensor([2, 5])\n",
    "z = torch.tensor([3, 6])\n",
    "torch.stack([x, y, z])\n",
    "# (3,2) tensor stacked along the first dimension"
   ],
   "execution_count": 85,
   "outputs": [
    {
     "data": {
      "text/plain": "tensor([[1, 4],\n        [2, 5],\n        [3, 6]])"
     },
     "execution_count": 85,
     "metadata": {},
     "output_type": "execute_result"
    }
   ]
  },
  {
   "cell_type": "code",
   "metadata": {
    "id": "thaLyy-YgcyL",
    "outputId": "13eef89e-1723-4806-882a-1f286c6683af",
    "colab": {
     "base_uri": "https://localhost:8080/",
     "height": 68
    },
    "ExecuteTime": {
     "end_time": "2023-11-23T09:26:24.320808Z",
     "start_time": "2023-11-23T09:26:22.303207Z"
    }
   },
   "source": [
    "# What is the output and shape of this code?\n",
    "x = torch.tensor([1, 4])\n",
    "y = torch.tensor([2, 5])\n",
    "z = torch.tensor([3, 6])\n",
    "torch.stack([x, y, z], dim=1)\n",
    "# (2,3) tensor stacked along the second dimension"
   ],
   "execution_count": 86,
   "outputs": [
    {
     "data": {
      "text/plain": "tensor([[1, 2, 3],\n        [4, 5, 6]])"
     },
     "execution_count": 86,
     "metadata": {},
     "output_type": "execute_result"
    }
   ]
  },
  {
   "cell_type": "code",
   "metadata": {
    "id": "7t_E0gzG530U",
    "outputId": "27d485d7-1583-477b-a35f-652d648604a2",
    "colab": {
     "base_uri": "https://localhost:8080/",
     "height": 34
    },
    "ExecuteTime": {
     "end_time": "2023-11-23T09:26:24.558141Z",
     "start_time": "2023-11-23T09:26:22.305100Z"
    }
   },
   "source": [
    "# What does this code produce and why?\n",
    "c = torch.tensor([[1.0, 2.0, 3.0],\n",
    "                 [4.0, 5.0, 6.0]])\n",
    "c.shape\n",
    "# A Size object with a list of Dimension objects\n",
    "# 2 and 3"
   ],
   "execution_count": 87,
   "outputs": [
    {
     "data": {
      "text/plain": "torch.Size([2, 3])"
     },
     "execution_count": 87,
     "metadata": {},
     "output_type": "execute_result"
    }
   ]
  },
  {
   "cell_type": "code",
   "metadata": {
    "id": "sFJPGZax6NvG",
    "outputId": "47efafdd-9468-4edf-8ecd-051a0f0addae",
    "colab": {
     "base_uri": "https://localhost:8080/",
     "height": 34
    },
    "ExecuteTime": {
     "end_time": "2023-11-23T09:26:24.558431Z",
     "start_time": "2023-11-23T09:26:22.306762Z"
    }
   },
   "source": [
    "# What does this code produce and why?\n",
    "tensor = torch.tensor([1, 2, 3, 4, 5, 6])\n",
    "tensor[2:-2]\n",
    "# Strip leading and trailing 2 elements"
   ],
   "execution_count": 88,
   "outputs": [
    {
     "data": {
      "text/plain": "tensor([3, 4])"
     },
     "execution_count": 88,
     "metadata": {},
     "output_type": "execute_result"
    }
   ]
  },
  {
   "cell_type": "code",
   "metadata": {
    "id": "1AR1-L3U97FS",
    "outputId": "7b4d2070-8700-432a-c22d-9dd48458ded8",
    "colab": {
     "base_uri": "https://localhost:8080/",
     "height": 68
    },
    "ExecuteTime": {
     "end_time": "2023-11-23T09:26:24.560677Z",
     "start_time": "2023-11-23T09:26:22.308414Z"
    }
   },
   "source": [
    "# What does this code produce and why?\n",
    "tensor = torch.tensor([[1, 2, 3],\n",
    "                      [4, 5, 6],\n",
    "                      [7, 8, 9],\n",
    "                       [10, 11, 12]])\n",
    "tensor[::2,]\n",
    "# Skip every other row and reverse the order\n",
    "# of the columns"
   ],
   "execution_count": 89,
   "outputs": [
    {
     "data": {
      "text/plain": "tensor([[1, 2, 3],\n        [7, 8, 9]])"
     },
     "execution_count": 89,
     "metadata": {},
     "output_type": "execute_result"
    }
   ]
  },
  {
   "cell_type": "code",
   "metadata": {
    "id": "sXDmebI6km_Y",
    "outputId": "6877de56-4855-4bf1-afa4-f740d5f7b5a7",
    "colab": {
     "base_uri": "https://localhost:8080/",
     "height": 34
    },
    "ExecuteTime": {
     "end_time": "2023-11-23T09:26:24.563041Z",
     "start_time": "2023-11-23T09:26:22.310075Z"
    }
   },
   "source": [
    "# What does this code produce and why?\n",
    "tensor = torch.tensor([[1, 2, 3],\n",
    "                      [4, 5, 6],\n",
    "                      [7, 8, 9]])\n",
    "tensor[torch.tensor(0), torch.tensor(2)]\n",
    "\n",
    "# The value at coordinates 0,2 as a scalar tensor"
   ],
   "execution_count": 90,
   "outputs": [
    {
     "data": {
      "text/plain": "tensor(3)"
     },
     "execution_count": 90,
     "metadata": {},
     "output_type": "execute_result"
    }
   ]
  },
  {
   "cell_type": "code",
   "metadata": {
    "id": "T78RfEwXhlHm",
    "outputId": "e356730b-1bde-4f1d-f493-0e1abee35480",
    "colab": {
     "base_uri": "https://localhost:8080/",
     "height": 34
    },
    "ExecuteTime": {
     "end_time": "2023-11-23T09:26:24.563187Z",
     "start_time": "2023-11-23T09:26:22.311826Z"
    }
   },
   "source": [
    "# What does this code produce and why?\n",
    "tensor = torch.tensor([[1, 2, 3],\n",
    "                      [4, 5, 6],\n",
    "                      [7, 8, 9]])\n",
    "tensor[torch.tensor(0)]\n",
    "\n",
    "# A cut on position 0 in the first dimension;\n",
    "# the first row"
   ],
   "execution_count": 91,
   "outputs": [
    {
     "data": {
      "text/plain": "tensor([1, 2, 3])"
     },
     "execution_count": 91,
     "metadata": {},
     "output_type": "execute_result"
    }
   ]
  },
  {
   "cell_type": "code",
   "metadata": {
    "id": "GOmWYSpgh_2a",
    "outputId": "f7adbe58-4752-4465-f753-e17fe44d0d89",
    "colab": {
     "base_uri": "https://localhost:8080/",
     "height": 34
    },
    "ExecuteTime": {
     "end_time": "2023-11-23T09:26:24.563617Z",
     "start_time": "2023-11-23T09:26:22.314298Z"
    }
   },
   "source": [
    "# What does this code produce and why?\n",
    "tensor = torch.tensor([[1, 2, 3],\n",
    "                      [4, 5, 6],\n",
    "                      [7, 8, 9]])\n",
    "tensor[:, torch.tensor(0)]\n",
    "\n",
    "# A cut on position 0 in the second dimension;\n",
    "# the first column\n"
   ],
   "execution_count": 92,
   "outputs": [
    {
     "data": {
      "text/plain": "tensor([1, 4, 7])"
     },
     "execution_count": 92,
     "metadata": {},
     "output_type": "execute_result"
    }
   ]
  },
  {
   "cell_type": "code",
   "metadata": {
    "id": "EhdmUENjhTOg",
    "outputId": "258563d2-7128-4127-f97f-931a6f779541",
    "colab": {
     "base_uri": "https://localhost:8080/",
     "height": 34
    },
    "ExecuteTime": {
     "end_time": "2023-11-23T09:26:24.563725Z",
     "start_time": "2023-11-23T09:26:22.317710Z"
    }
   },
   "source": [
    "# What are other two equivalent operations to selecting\n",
    "# the first row:\n",
    "tensor = torch.tensor([[1, 2, 3],\n",
    "                      [4, 5, 6],\n",
    "                      [7, 8, 9]])\n",
    "tensor[torch.tensor(0)]\n",
    "\n",
    "# With explicit ellipses for other dimensions\n",
    "tensor[torch.tensor(0), :]\n",
    "# With ellipsis\n",
    "tensor[torch.tensor(0), ...]"
   ],
   "execution_count": 93,
   "outputs": [
    {
     "data": {
      "text/plain": "tensor([1, 2, 3])"
     },
     "execution_count": 93,
     "metadata": {},
     "output_type": "execute_result"
    }
   ]
  },
  {
   "cell_type": "code",
   "metadata": {
    "id": "sot0fX4LjGJN",
    "outputId": "6940caca-d1a4-4ec6-aa3b-d1f79017cc45",
    "colab": {
     "base_uri": "https://localhost:8080/",
     "height": 119
    },
    "ExecuteTime": {
     "end_time": "2023-11-23T09:26:24.563768Z",
     "start_time": "2023-11-23T09:26:22.320129Z"
    }
   },
   "source": [],
   "execution_count": 93,
   "outputs": []
  },
  {
   "cell_type": "code",
   "metadata": {
    "id": "nNEJpYV6ipLh",
    "outputId": "da863c8f-818e-41b8-b30b-68aa63ee2f98",
    "colab": {
     "base_uri": "https://localhost:8080/",
     "height": 85
    },
    "ExecuteTime": {
     "end_time": "2023-11-23T09:26:24.563815Z",
     "start_time": "2023-11-23T09:26:22.322095Z"
    }
   },
   "source": [],
   "execution_count": 93,
   "outputs": []
  },
  {
   "cell_type": "code",
   "metadata": {
    "id": "5QhFZz-MjhQJ",
    "outputId": "1e5cee5c-a14a-4ca9-f5ee-e983a12de10d",
    "colab": {
     "base_uri": "https://localhost:8080/",
     "height": 34
    },
    "ExecuteTime": {
     "end_time": "2023-11-23T09:26:24.563856Z",
     "start_time": "2023-11-23T09:26:22.323752Z"
    }
   },
   "source": [],
   "execution_count": 93,
   "outputs": []
  },
  {
   "cell_type": "markdown",
   "metadata": {
    "id": "ekQx01akk_gB"
   },
   "source": []
  },
  {
   "cell_type": "markdown",
   "metadata": {
    "id": "tCbDdLFSwITs"
   },
   "source": []
  },
  {
   "cell_type": "code",
   "metadata": {
    "id": "t3rSIhXCwKXY",
    "outputId": "c82c10db-d1cd-4745-9982-e9af0601ba11",
    "colab": {
     "base_uri": "https://localhost:8080/",
     "height": 34
    },
    "ExecuteTime": {
     "end_time": "2023-11-23T09:26:24.563895Z",
     "start_time": "2023-11-23T09:26:22.325432Z"
    }
   },
   "source": [],
   "execution_count": 93,
   "outputs": []
  },
  {
   "cell_type": "code",
   "metadata": {
    "id": "GCiiQl11wQx8",
    "outputId": "62d608d1-f0b9-419a-f8a7-f9b7ba6ce778",
    "colab": {
     "base_uri": "https://localhost:8080/",
     "height": 34
    },
    "ExecuteTime": {
     "end_time": "2023-11-23T09:26:24.563934Z",
     "start_time": "2023-11-23T09:26:22.327027Z"
    }
   },
   "source": [],
   "execution_count": 93,
   "outputs": []
  },
  {
   "cell_type": "code",
   "metadata": {
    "id": "vuqVidWSxVC0",
    "outputId": "d783375d-937a-4794-ffd1-80b5f54a48dd",
    "colab": {
     "base_uri": "https://localhost:8080/",
     "height": 68
    },
    "ExecuteTime": {
     "end_time": "2023-11-23T09:26:24.576806Z",
     "start_time": "2023-11-23T09:26:22.328706Z"
    }
   },
   "source": [],
   "execution_count": 93,
   "outputs": []
  },
  {
   "cell_type": "code",
   "metadata": {
    "id": "MImI-SE8ybWR",
    "outputId": "1b4d1832-561d-442a-eac7-dba044bc98d4",
    "colab": {
     "base_uri": "https://localhost:8080/",
     "height": 34
    },
    "ExecuteTime": {
     "end_time": "2023-11-23T09:26:24.576874Z",
     "start_time": "2023-11-23T09:26:22.330168Z"
    }
   },
   "source": [],
   "execution_count": 93,
   "outputs": []
  },
  {
   "cell_type": "code",
   "metadata": {
    "id": "Fwh7DmgbwsTU",
    "outputId": "72c479f5-83ef-4c8e-f257-1c5384b7ae22",
    "colab": {
     "base_uri": "https://localhost:8080/",
     "height": 51
    },
    "ExecuteTime": {
     "end_time": "2023-11-23T09:26:24.576915Z",
     "start_time": "2023-11-23T09:26:22.332221Z"
    }
   },
   "source": [],
   "execution_count": 93,
   "outputs": []
  },
  {
   "cell_type": "code",
   "metadata": {
    "id": "VumPrb7WzUnt",
    "outputId": "31913734-c53d-4d87-d834-2660b71cdcc6",
    "colab": {
     "base_uri": "https://localhost:8080/",
     "height": 34
    },
    "ExecuteTime": {
     "end_time": "2023-11-23T09:26:24.576956Z",
     "start_time": "2023-11-23T09:26:22.333975Z"
    }
   },
   "source": [],
   "execution_count": 93,
   "outputs": []
  },
  {
   "cell_type": "code",
   "metadata": {
    "id": "Sq26anXb0K-0",
    "outputId": "a511bd31-07a6-4583-a12b-efd0d22c756e",
    "colab": {
     "base_uri": "https://localhost:8080/",
     "height": 68
    },
    "ExecuteTime": {
     "end_time": "2023-11-23T09:26:24.576996Z",
     "start_time": "2023-11-23T09:26:22.335530Z"
    }
   },
   "source": [],
   "execution_count": 93,
   "outputs": []
  },
  {
   "cell_type": "code",
   "metadata": {
    "id": "a2X8qW_40q1O",
    "outputId": "412bcc1b-e3ce-4d3f-bb36-1e98e65bbdf7",
    "colab": {
     "base_uri": "https://localhost:8080/",
     "height": 68
    },
    "ExecuteTime": {
     "end_time": "2023-11-23T09:26:24.577039Z",
     "start_time": "2023-11-23T09:26:22.337325Z"
    }
   },
   "source": [],
   "execution_count": 93,
   "outputs": []
  },
  {
   "cell_type": "code",
   "metadata": {
    "id": "PLhnp1UQ6Pmc",
    "outputId": "11fef7c3-0978-4c48-fa4f-ec192929b22f",
    "colab": {
     "base_uri": "https://localhost:8080/",
     "height": 34
    },
    "ExecuteTime": {
     "end_time": "2023-11-23T09:26:24.577447Z",
     "start_time": "2023-11-23T09:26:22.339897Z"
    }
   },
   "source": [],
   "execution_count": 93,
   "outputs": []
  },
  {
   "cell_type": "code",
   "metadata": {
    "id": "KdCCz_7z2yBJ",
    "ExecuteTime": {
     "end_time": "2023-11-23T09:26:24.577497Z",
     "start_time": "2023-11-23T09:26:22.341398Z"
    }
   },
   "source": [],
   "execution_count": 93,
   "outputs": []
  },
  {
   "cell_type": "code",
   "metadata": {
    "id": "pG-wVivt7v2p",
    "outputId": "46cc7694-3bf3-4324-cd83-3b809f000d83",
    "colab": {
     "base_uri": "https://localhost:8080/",
     "height": 34
    },
    "ExecuteTime": {
     "end_time": "2023-11-23T09:26:24.577547Z",
     "start_time": "2023-11-23T09:26:22.343270Z"
    }
   },
   "source": [],
   "execution_count": 93,
   "outputs": []
  },
  {
   "cell_type": "code",
   "metadata": {
    "id": "2TJ6nvz39GLg",
    "outputId": "48b00e9c-25b4-439a-ca4a-5ccdfbdec8a7",
    "colab": {
     "base_uri": "https://localhost:8080/",
     "height": 51
    },
    "ExecuteTime": {
     "end_time": "2023-11-23T09:26:24.577585Z",
     "start_time": "2023-11-23T09:26:22.344789Z"
    }
   },
   "source": [],
   "execution_count": 93,
   "outputs": []
  },
  {
   "cell_type": "code",
   "metadata": {
    "id": "RxDDgfo19kev",
    "outputId": "15090a48-a7f5-4ed8-facc-6ece78bc0af5",
    "colab": {
     "base_uri": "https://localhost:8080/",
     "height": 68
    },
    "ExecuteTime": {
     "end_time": "2023-11-23T09:26:24.577824Z",
     "start_time": "2023-11-23T09:26:22.352745Z"
    }
   },
   "source": [],
   "execution_count": 93,
   "outputs": []
  },
  {
   "cell_type": "code",
   "metadata": {
    "id": "itXHL1xc-3ce",
    "outputId": "624b9210-7299-48b5-a516-5f45ebb4b1a3",
    "colab": {
     "base_uri": "https://localhost:8080/",
     "height": 51
    },
    "ExecuteTime": {
     "end_time": "2023-11-23T09:26:24.577992Z",
     "start_time": "2023-11-23T09:26:22.354520Z"
    }
   },
   "source": [],
   "execution_count": 93,
   "outputs": []
  },
  {
   "cell_type": "code",
   "metadata": {
    "id": "Mp0hTsua_eei",
    "outputId": "db3ca99d-9262-424b-c006-12e6211872ba",
    "colab": {
     "base_uri": "https://localhost:8080/",
     "height": 34
    },
    "ExecuteTime": {
     "end_time": "2023-11-23T09:26:24.578071Z",
     "start_time": "2023-11-23T09:26:22.356589Z"
    }
   },
   "source": [],
   "execution_count": 93,
   "outputs": []
  },
  {
   "cell_type": "code",
   "metadata": {
    "id": "lFUoFw7tMaKW",
    "outputId": "d5555c06-d639-40f1-906d-e438bb44dcc1",
    "colab": {
     "base_uri": "https://localhost:8080/",
     "height": 34
    },
    "ExecuteTime": {
     "end_time": "2023-11-23T09:26:24.578136Z",
     "start_time": "2023-11-23T09:26:22.358348Z"
    }
   },
   "source": [],
   "execution_count": 93,
   "outputs": []
  },
  {
   "cell_type": "code",
   "metadata": {
    "id": "DSWJElFoOek6",
    "ExecuteTime": {
     "end_time": "2023-11-23T09:26:24.578202Z",
     "start_time": "2023-11-23T09:26:22.360382Z"
    }
   },
   "source": [],
   "execution_count": 93,
   "outputs": []
  },
  {
   "cell_type": "code",
   "metadata": {
    "id": "S3oxdbyTWfbG",
    "ExecuteTime": {
     "end_time": "2023-11-23T09:26:24.578256Z",
     "start_time": "2023-11-23T09:26:22.362081Z"
    }
   },
   "source": [],
   "execution_count": 93,
   "outputs": []
  },
  {
   "cell_type": "code",
   "metadata": {
    "id": "NWIBNcuMWuWQ",
    "outputId": "760ad6e7-ccfb-47f1-88f7-9f95e1e7b5c7",
    "colab": {
     "base_uri": "https://localhost:8080/",
     "height": 34
    },
    "ExecuteTime": {
     "end_time": "2023-11-23T09:26:24.578307Z",
     "start_time": "2023-11-23T09:26:22.364252Z"
    }
   },
   "source": [],
   "execution_count": 93,
   "outputs": []
  },
  {
   "cell_type": "code",
   "metadata": {
    "id": "enZbO5ICYpDh",
    "ExecuteTime": {
     "end_time": "2023-11-23T09:26:24.578791Z",
     "start_time": "2023-11-23T09:26:22.366058Z"
    }
   },
   "source": [],
   "execution_count": 93,
   "outputs": []
  },
  {
   "cell_type": "code",
   "metadata": {
    "id": "KNEMqU8RW5uj",
    "colab": {
     "base_uri": "https://localhost:8080/",
     "height": 187
    },
    "outputId": "9d58d0db-097d-4f6e-9628-0d200b000709",
    "ExecuteTime": {
     "end_time": "2023-11-23T09:26:24.578897Z",
     "start_time": "2023-11-23T09:26:22.368566Z"
    }
   },
   "source": [],
   "execution_count": 93,
   "outputs": []
  },
  {
   "cell_type": "code",
   "metadata": {
    "id": "A5_UjJ8aYxVY",
    "outputId": "5aef9f3f-0ac7-4944-be38-b76b345a8f90",
    "colab": {
     "base_uri": "https://localhost:8080/",
     "height": 34
    },
    "ExecuteTime": {
     "end_time": "2023-11-23T09:26:24.578957Z",
     "start_time": "2023-11-23T09:26:22.370091Z"
    }
   },
   "source": [],
   "execution_count": 93,
   "outputs": []
  },
  {
   "cell_type": "code",
   "metadata": {
    "id": "wgBfcYByaFnN",
    "outputId": "7c7e7f6f-2099-42ed-e707-0d961b0e5afa",
    "colab": {
     "base_uri": "https://localhost:8080/",
     "height": 34
    },
    "ExecuteTime": {
     "end_time": "2023-11-23T09:26:24.579007Z",
     "start_time": "2023-11-23T09:26:22.372224Z"
    }
   },
   "source": [],
   "execution_count": 93,
   "outputs": []
  },
  {
   "cell_type": "code",
   "metadata": {
    "id": "qkgsEObSa8Lq",
    "outputId": "67c2b037-fb57-4306-bd97-d7143ecac1f5",
    "colab": {
     "base_uri": "https://localhost:8080/",
     "height": 34
    },
    "ExecuteTime": {
     "end_time": "2023-11-23T09:26:24.579051Z",
     "start_time": "2023-11-23T09:26:22.373813Z"
    }
   },
   "source": [],
   "execution_count": 93,
   "outputs": []
  },
  {
   "cell_type": "code",
   "metadata": {
    "id": "Nc4_ewBYbc0q",
    "ExecuteTime": {
     "end_time": "2023-11-23T09:26:24.579093Z",
     "start_time": "2023-11-23T09:26:22.375373Z"
    }
   },
   "source": [],
   "execution_count": 93,
   "outputs": []
  },
  {
   "cell_type": "code",
   "metadata": {
    "id": "RF2bzkgZb3o1",
    "ExecuteTime": {
     "end_time": "2023-11-23T09:26:24.579136Z",
     "start_time": "2023-11-23T09:26:22.377175Z"
    }
   },
   "source": [],
   "execution_count": 93,
   "outputs": []
  },
  {
   "cell_type": "code",
   "metadata": {
    "id": "xiRzL_78cS4-",
    "ExecuteTime": {
     "end_time": "2023-11-23T09:26:24.579177Z",
     "start_time": "2023-11-23T09:26:22.379543Z"
    }
   },
   "source": [],
   "execution_count": 93,
   "outputs": []
  },
  {
   "cell_type": "markdown",
   "source": [
    "## Broadcasting"
   ],
   "metadata": {
    "collapsed": false
   }
  },
  {
   "cell_type": "markdown",
   "metadata": {
    "id": "S-1rd5yiKQc_"
   },
   "source": []
  },
  {
   "cell_type": "code",
   "metadata": {
    "id": "qFSMWx-CM9Ba",
    "outputId": "7511195c-01b8-419a-fa27-e4082348cbd2",
    "colab": {
     "base_uri": "https://localhost:8080/",
     "height": 34
    },
    "ExecuteTime": {
     "end_time": "2023-11-23T09:26:24.579316Z",
     "start_time": "2023-11-23T09:26:22.382359Z"
    }
   },
   "source": [
    "# Broadcasting in torch: what is the output?\n",
    "a = torch.tensor(3)\n",
    "b = torch.tensor(4)\n",
    "a + b\n",
    "\n",
    "# Simple scalar: 7"
   ],
   "execution_count": 94,
   "outputs": [
    {
     "data": {
      "text/plain": "tensor(7)"
     },
     "execution_count": 94,
     "metadata": {},
     "output_type": "execute_result"
    }
   ]
  },
  {
   "cell_type": "code",
   "metadata": {
    "id": "8LPxB23ZNKAL",
    "outputId": "40097450-e96d-40a6-9935-a68eba875f5c",
    "colab": {
     "base_uri": "https://localhost:8080/",
     "height": 34
    },
    "ExecuteTime": {
     "end_time": "2023-11-23T09:26:24.579412Z",
     "start_time": "2023-11-23T09:26:22.384867Z"
    }
   },
   "source": [
    "# Broadcasting in torch: what is the output and why?\n",
    "a = torch.tensor([1, 2])\n",
    "b = torch.tensor(4)\n",
    "a + b\n",
    "\n",
    "# b is broadcast to all items in a"
   ],
   "execution_count": 95,
   "outputs": [
    {
     "data": {
      "text/plain": "tensor([5, 6])"
     },
     "execution_count": 95,
     "metadata": {},
     "output_type": "execute_result"
    }
   ]
  },
  {
   "cell_type": "code",
   "metadata": {
    "id": "PJnGgO0BNZ9N",
    "outputId": "12cbe92a-9f71-40b2-8e33-614aeefeecdc",
    "colab": {
     "base_uri": "https://localhost:8080/",
     "height": 34
    },
    "ExecuteTime": {
     "end_time": "2023-11-23T09:26:24.579518Z",
     "start_time": "2023-11-23T09:26:22.387845Z"
    }
   },
   "source": [
    "# Broadcasting in torch: what is the output and why?\n",
    "a = torch.tensor([1, 2, 3])\n",
    "b = torch.tensor([4, 5, 6])\n",
    "a + b\n",
    "\n",
    "# Element-wise operation"
   ],
   "execution_count": 96,
   "outputs": [
    {
     "data": {
      "text/plain": "tensor([5, 7, 9])"
     },
     "execution_count": 96,
     "metadata": {},
     "output_type": "execute_result"
    }
   ]
  },
  {
   "cell_type": "code",
   "metadata": {
    "id": "8dQy_74oN06b",
    "outputId": "832bf392-98b6-47b5-c3b5-627c5d2142dd",
    "colab": {
     "base_uri": "https://localhost:8080/",
     "height": 68
    },
    "ExecuteTime": {
     "end_time": "2023-11-23T09:26:24.579627Z",
     "start_time": "2023-11-23T09:26:22.391383Z"
    }
   },
   "source": [
    "# Broadcasting in torch: what is the output and why?\n",
    "a = torch.tensor([[1, 2, 3], [4, 5, 6]])\n",
    "b = torch.tensor([[1, 2, 3], [4, 5, 6]])\n",
    "a + b\n",
    "\n",
    "# Elementwise addition"
   ],
   "execution_count": 97,
   "outputs": [
    {
     "data": {
      "text/plain": "tensor([[ 2,  4,  6],\n        [ 8, 10, 12]])"
     },
     "execution_count": 97,
     "metadata": {},
     "output_type": "execute_result"
    }
   ]
  },
  {
   "cell_type": "code",
   "metadata": {
    "id": "hcwgWRjeN-cc",
    "outputId": "204aab6d-af20-4fc6-8a0a-7dd3e316840b",
    "colab": {
     "base_uri": "https://localhost:8080/",
     "height": 68
    },
    "ExecuteTime": {
     "end_time": "2023-11-23T09:26:24.579719Z",
     "start_time": "2023-11-23T09:26:22.394032Z"
    }
   },
   "source": [
    "# Broadcasting in torch: what is the output and why?\n",
    "a = torch.tensor([[1, 2, 3], [4, 5, 6]])\n",
    "b = torch.tensor([10, 20, 30])\n",
    "a + b\n",
    "\n",
    "# b is broadcast along each row in a"
   ],
   "execution_count": 98,
   "outputs": [
    {
     "data": {
      "text/plain": "tensor([[11, 22, 33],\n        [14, 25, 36]])"
     },
     "execution_count": 98,
     "metadata": {},
     "output_type": "execute_result"
    }
   ]
  },
  {
   "cell_type": "code",
   "metadata": {
    "id": "1ivO38B9OLsw",
    "outputId": "54c12792-4ea8-4109-cdbd-6b62a3bde2b1",
    "colab": {
     "base_uri": "https://localhost:8080/",
     "height": 68
    },
    "ExecuteTime": {
     "end_time": "2023-11-23T09:26:24.579808Z",
     "start_time": "2023-11-23T09:26:22.397285Z"
    }
   },
   "source": [
    "# Broadcasting in torch: what is the output and why?\n",
    "a = torch.tensor([[1, 2, 3], [4, 5, 6]])\n",
    "b = torch.tensor([[1], [2]])\n",
    "a + b\n",
    "\n",
    "# b is broadcast along each column in a"
   ],
   "execution_count": 99,
   "outputs": [
    {
     "data": {
      "text/plain": "tensor([[2, 3, 4],\n        [6, 7, 8]])"
     },
     "execution_count": 99,
     "metadata": {},
     "output_type": "execute_result"
    }
   ]
  },
  {
   "cell_type": "code",
   "metadata": {
    "id": "p7NEm-jTOu_C",
    "outputId": "083c294e-9a82-4c5f-f4cc-3fbca818d312",
    "colab": {
     "base_uri": "https://localhost:8080/",
     "height": 153
    },
    "ExecuteTime": {
     "end_time": "2023-11-23T09:26:24.579898Z",
     "start_time": "2023-11-23T09:26:22.400825Z"
    }
   },
   "source": [
    "# Broadcasting in torch: what is the output and why?\n",
    "a = torch.tensor([\n",
    "    [\n",
    "        [1, 2, 3],\n",
    "        [4, 5, 6],\n",
    "        [7, 8, 9]\n",
    "    ], [\n",
    "        [11, 12, 13],\n",
    "        [14, 15, 16],\n",
    "        [17, 18, 19]\n",
    "    ]])\n",
    "b = torch.tensor([10, 20, 30])\n",
    "a + b\n",
    "\n",
    "# b is broadcast along the inner-most dimension in a"
   ],
   "execution_count": 100,
   "outputs": [
    {
     "data": {
      "text/plain": "tensor([[[11, 22, 33],\n         [14, 25, 36],\n         [17, 28, 39]],\n\n        [[21, 32, 43],\n         [24, 35, 46],\n         [27, 38, 49]]])"
     },
     "execution_count": 100,
     "metadata": {},
     "output_type": "execute_result"
    }
   ]
  },
  {
   "cell_type": "code",
   "metadata": {
    "id": "Eja7wC47Pe8x",
    "outputId": "7cb19713-91d3-4b35-ba07-73ebdba6c606",
    "colab": {
     "base_uri": "https://localhost:8080/",
     "height": 153
    },
    "ExecuteTime": {
     "end_time": "2023-11-23T09:26:24.579982Z",
     "start_time": "2023-11-23T09:26:22.404500Z"
    }
   },
   "source": [
    "# Broadcasting in torch: what is the output and why?\n",
    "a = torch.tensor([\n",
    "    [\n",
    "        [1, 2, 3],\n",
    "        [4, 5, 6],\n",
    "        [7, 8, 9]\n",
    "    ], [\n",
    "        [11, 12, 13],\n",
    "        [14, 15, 16],\n",
    "        [17, 18, 19]\n",
    "    ]])\n",
    "b = torch.tensor([[10], [20], [30]])\n",
    "a + b\n",
    "\n",
    "# b is broadcast along the second dimension in a"
   ],
   "execution_count": 101,
   "outputs": [
    {
     "data": {
      "text/plain": "tensor([[[11, 12, 13],\n         [24, 25, 26],\n         [37, 38, 39]],\n\n        [[21, 22, 23],\n         [34, 35, 36],\n         [47, 48, 49]]])"
     },
     "execution_count": 101,
     "metadata": {},
     "output_type": "execute_result"
    }
   ]
  },
  {
   "cell_type": "code",
   "metadata": {
    "id": "g_3yHVvEP0LN",
    "outputId": "3887cc15-2e38-4f57-a47a-63e4b60067d4",
    "colab": {
     "base_uri": "https://localhost:8080/",
     "height": 153
    },
    "ExecuteTime": {
     "end_time": "2023-11-23T09:26:24.580072Z",
     "start_time": "2023-11-23T09:26:22.407591Z"
    }
   },
   "source": [
    "# Broadcasting in torch: what is the output and why?\n",
    "a = torch.tensor([\n",
    "    [\n",
    "        [1, 2, 3],\n",
    "        [4, 5, 6],\n",
    "        [7, 8, 9]\n",
    "    ], [\n",
    "        [11, 12, 13],\n",
    "        [14, 15, 16],\n",
    "        [17, 18, 19]\n",
    "    ]])\n",
    "b = torch.tensor([[[10]], [[20]]])\n",
    "a + b\n",
    "\n",
    "# b is broadcast along the first dimension in a"
   ],
   "execution_count": 102,
   "outputs": [
    {
     "data": {
      "text/plain": "tensor([[[11, 12, 13],\n         [14, 15, 16],\n         [17, 18, 19]],\n\n        [[31, 32, 33],\n         [34, 35, 36],\n         [37, 38, 39]]])"
     },
     "execution_count": 102,
     "metadata": {},
     "output_type": "execute_result"
    }
   ]
  },
  {
   "cell_type": "code",
   "metadata": {
    "id": "MNkprrEGQOBf",
    "outputId": "6e716dbf-fe26-453f-db26-030db52dd9d9",
    "colab": {
     "base_uri": "https://localhost:8080/",
     "height": 153
    },
    "ExecuteTime": {
     "end_time": "2023-11-23T09:26:24.580158Z",
     "start_time": "2023-11-23T09:26:22.411045Z"
    }
   },
   "source": [
    "# Broadcasting in torch: what is the output and why?\n",
    "a = torch.tensor([\n",
    "    [\n",
    "        [1, 2, 3],\n",
    "        [4, 5, 6],\n",
    "        [7, 8, 9]\n",
    "    ], [\n",
    "        [11, 12, 13],\n",
    "        [14, 15, 16],\n",
    "        [17, 18, 19]\n",
    "    ]])\n",
    "b = torch.tensor([10, 20, 30])\n",
    "a * b\n",
    "\n",
    "# b is broadcast along the inner-most dimension in a"
   ],
   "execution_count": 103,
   "outputs": [
    {
     "data": {
      "text/plain": "tensor([[[ 10,  40,  90],\n         [ 40, 100, 180],\n         [ 70, 160, 270]],\n\n        [[110, 240, 390],\n         [140, 300, 480],\n         [170, 360, 570]]])"
     },
     "execution_count": 103,
     "metadata": {},
     "output_type": "execute_result"
    }
   ]
  },
  {
   "cell_type": "code",
   "metadata": {
    "id": "rafEJLP4QrXO",
    "outputId": "28d3816d-416e-4c8e-effc-d310d4d6dca3",
    "colab": {
     "base_uri": "https://localhost:8080/",
     "height": 153
    },
    "ExecuteTime": {
     "end_time": "2023-11-23T09:26:24.580243Z",
     "start_time": "2023-11-23T09:26:22.414630Z"
    }
   },
   "source": [
    "# Broadcasting in torch: what is the output and why?\n",
    "a = torch.tensor([\n",
    "    [\n",
    "        [1, 2, 3],\n",
    "        [4, 5, 6],\n",
    "        [7, 8, 9]\n",
    "    ], [\n",
    "        [11, 12, 13],\n",
    "        [14, 15, 16],\n",
    "        [17, 18, 19]\n",
    "    ]])\n",
    "b = torch.tensor([[10], [20], [30]])\n",
    "a * b\n",
    "\n",
    "# b is broadcast along the second dimension in a"
   ],
   "execution_count": 104,
   "outputs": [
    {
     "data": {
      "text/plain": "tensor([[[ 10,  20,  30],\n         [ 80, 100, 120],\n         [210, 240, 270]],\n\n        [[110, 120, 130],\n         [280, 300, 320],\n         [510, 540, 570]]])"
     },
     "execution_count": 104,
     "metadata": {},
     "output_type": "execute_result"
    }
   ]
  },
  {
   "cell_type": "code",
   "metadata": {
    "id": "oPDDtULvQ0up",
    "outputId": "7804393c-d311-43fa-cde6-1af5cf8fd2cf",
    "colab": {
     "base_uri": "https://localhost:8080/",
     "height": 153
    },
    "ExecuteTime": {
     "end_time": "2023-11-23T09:26:24.580280Z",
     "start_time": "2023-11-23T09:26:22.417531Z"
    }
   },
   "source": [],
   "execution_count": 104,
   "outputs": []
  },
  {
   "cell_type": "code",
   "metadata": {
    "id": "f2G27sVbRFxc",
    "outputId": "54e9d3b2-72a5-4f6c-8419-a9f284fab483",
    "colab": {
     "base_uri": "https://localhost:8080/",
     "height": 153
    },
    "ExecuteTime": {
     "end_time": "2023-11-23T09:26:24.580363Z",
     "start_time": "2023-11-23T09:26:22.419114Z"
    }
   },
   "source": [
    "# Broadcasting in torch: what is the output and why?\n",
    "a = torch.tensor([\n",
    "    [\n",
    "        [1, 2, 3],\n",
    "        [4, 5, 6],\n",
    "        [7, 8, 9]\n",
    "    ], [\n",
    "        [11, 12, 13],\n",
    "        [14, 15, 16],\n",
    "        [17, 18, 19]\n",
    "    ]])\n",
    "b = torch.tensor([[10], [20], [30]])\n",
    "torch.matmul(a, b)\n",
    "\n",
    "# a is multiplied by a \"column-vector\" b twice"
   ],
   "execution_count": 105,
   "outputs": [
    {
     "data": {
      "text/plain": "tensor([[[ 140],\n         [ 320],\n         [ 500]],\n\n        [[ 740],\n         [ 920],\n         [1100]]])"
     },
     "execution_count": 105,
     "metadata": {},
     "output_type": "execute_result"
    }
   ]
  },
  {
   "cell_type": "code",
   "metadata": {
    "id": "2a1smQOCRuLl",
    "outputId": "92706735-ab40-44a3-892b-a0f5c74ca693",
    "colab": {
     "base_uri": "https://localhost:8080/",
     "height": 153
    },
    "ExecuteTime": {
     "end_time": "2023-11-23T09:26:24.580465Z",
     "start_time": "2023-11-23T09:26:22.423210Z"
    }
   },
   "source": [
    "# Broadcasting in torch: what is the output and why?\n",
    "a = torch.tensor([\n",
    "    [\n",
    "        [1, 2, 3],\n",
    "        [4, 5, 6],\n",
    "        [7, 8, 9]\n",
    "    ], [\n",
    "        [11, 12, 13],\n",
    "        [14, 15, 16],\n",
    "        [17, 18, 19]\n",
    "    ]])\n",
    "b = torch.full((3, 1), 10)\n",
    "\n",
    "torch.matmul(a, b)\n",
    "\n",
    "# a is multiplied by a \"column-vector\" b twice"
   ],
   "execution_count": 106,
   "outputs": [
    {
     "data": {
      "text/plain": "tensor([[[ 60],\n         [150],\n         [240]],\n\n        [[360],\n         [450],\n         [540]]])"
     },
     "execution_count": 106,
     "metadata": {},
     "output_type": "execute_result"
    }
   ]
  },
  {
   "cell_type": "code",
   "metadata": {
    "id": "LExsCozMS93P",
    "outputId": "317f4ce0-55d6-4de5-8796-5d19f44d12d8",
    "colab": {
     "base_uri": "https://localhost:8080/",
     "height": 34
    },
    "ExecuteTime": {
     "end_time": "2023-11-23T09:26:24.580564Z",
     "start_time": "2023-11-23T09:26:22.427131Z"
    }
   },
   "source": [
    "# Which operator (for Python 3.5+) is for matrix multiplication\n",
    "# and is implemented in torch?\n",
    "a = torch.tensor([\n",
    "                    [1, 2]\n",
    "                ])\n",
    "b = torch.tensor([\n",
    "                    [3],\n",
    "                    [4]\n",
    "                ])\n",
    "\n",
    "# at-sign\n",
    "a @ b"
   ],
   "execution_count": 107,
   "outputs": [
    {
     "data": {
      "text/plain": "tensor([[11]])"
     },
     "execution_count": 107,
     "metadata": {},
     "output_type": "execute_result"
    }
   ]
  },
  {
   "cell_type": "code",
   "metadata": {
    "id": "arfKnUgg5q12",
    "outputId": "bef2bd99-7673-4291-8bc5-2eb0a5e90b6f",
    "colab": {
     "base_uri": "https://localhost:8080/",
     "height": 34
    },
    "ExecuteTime": {
     "end_time": "2023-11-23T09:26:24.580650Z",
     "start_time": "2023-11-23T09:26:22.430509Z"
    }
   },
   "source": [
    "# What is the result and why?\n",
    "t = torch.tensor([[1, 5, 3],\n",
    "                 [4, 2, 6]])\n",
    "torch.max(t)\n",
    "\n",
    "# If no dimension provided, reduces to a scalar\n",
    "# among all dimensions; returns the max value"
   ],
   "execution_count": 108,
   "outputs": [
    {
     "data": {
      "text/plain": "tensor(6)"
     },
     "execution_count": 108,
     "metadata": {},
     "output_type": "execute_result"
    }
   ]
  },
  {
   "cell_type": "code",
   "metadata": {
    "id": "tzV-dezu6N_N",
    "outputId": "ceb40c78-9766-4d74-d1f5-9255b96b18ea",
    "colab": {
     "base_uri": "https://localhost:8080/",
     "height": 34
    },
    "ExecuteTime": {
     "end_time": "2023-11-23T09:26:24.580745Z",
     "start_time": "2023-11-23T09:26:22.433397Z"
    }
   },
   "source": [
    "# What is the result and why?\n",
    "t = torch.tensor([[1, 5, 3],\n",
    "                 [4, 2, 6]])\n",
    "torch.max(t, dim=0)\n",
    "\n",
    "# Max values along the first axis"
   ],
   "execution_count": 109,
   "outputs": [
    {
     "data": {
      "text/plain": "torch.return_types.max(\nvalues=tensor([4, 5, 6]),\nindices=tensor([1, 0, 1]))"
     },
     "execution_count": 109,
     "metadata": {},
     "output_type": "execute_result"
    }
   ]
  },
  {
   "cell_type": "code",
   "metadata": {
    "id": "F1Q1Il2F6oAk",
    "outputId": "2f568809-568a-4325-9c33-87be7d2535f6",
    "colab": {
     "base_uri": "https://localhost:8080/",
     "height": 34
    },
    "ExecuteTime": {
     "end_time": "2023-11-23T09:26:24.580842Z",
     "start_time": "2023-11-23T09:26:22.437159Z"
    }
   },
   "source": [
    "# What is the result and why?\n",
    "t = torch.tensor([[1, 5, 3],\n",
    "                 [4, 2, 6]])\n",
    "torch.max(t, dim=1)\n",
    "\n",
    "# Max values along the second axis"
   ],
   "execution_count": 110,
   "outputs": [
    {
     "data": {
      "text/plain": "torch.return_types.max(\nvalues=tensor([5, 6]),\nindices=tensor([1, 2]))"
     },
     "execution_count": 110,
     "metadata": {},
     "output_type": "execute_result"
    }
   ]
  },
  {
   "cell_type": "code",
   "metadata": {
    "id": "2i3ofUeN7Awj",
    "outputId": "3560d6fc-87fb-4bc9-f37f-bda4d92f60ae",
    "colab": {
     "base_uri": "https://localhost:8080/",
     "height": 34
    },
    "ExecuteTime": {
     "end_time": "2023-11-23T09:26:24.580942Z",
     "start_time": "2023-11-23T09:26:22.440334Z"
    }
   },
   "source": [
    "# What is the result and why?\n",
    "t = torch.tensor([[1, 0, 0],\n",
    "                 [4, 2, 6]], dtype=torch.float64)\n",
    "torch.mean(t, dim=1)\n",
    "\n",
    "# Mean value along the second axis"
   ],
   "execution_count": 111,
   "outputs": [
    {
     "data": {
      "text/plain": "tensor([0.3333, 4.0000], dtype=torch.float64)"
     },
     "execution_count": 111,
     "metadata": {},
     "output_type": "execute_result"
    }
   ]
  },
  {
   "cell_type": "code",
   "metadata": {
    "id": "_GZOBmmd7hGX",
    "outputId": "c0ccfa39-5fcc-480a-d307-aebc23307725",
    "colab": {
     "base_uri": "https://localhost:8080/",
     "height": 34
    },
    "ExecuteTime": {
     "end_time": "2023-11-23T09:26:24.581085Z",
     "start_time": "2023-11-23T09:26:22.444075Z"
    }
   },
   "source": [
    "# What is the result and why?\n",
    "t = torch.tensor([1, 0, 0])\n",
    "torch.mean(t, dtype=torch.float)\n",
    "\n",
    "# Mean value but the method has an aggressive type inference\n",
    "# from the input tensor, thus integers end up as integers!!"
   ],
   "execution_count": 112,
   "outputs": [
    {
     "data": {
      "text/plain": "tensor(0.3333)"
     },
     "execution_count": 112,
     "metadata": {},
     "output_type": "execute_result"
    }
   ]
  },
  {
   "cell_type": "code",
   "metadata": {
    "id": "WU70gwlS8BRg",
    "outputId": "72ce844b-13b5-4eb8-e474-24a10938aaa0",
    "colab": {
     "base_uri": "https://localhost:8080/",
     "height": 68
    },
    "ExecuteTime": {
     "end_time": "2023-11-23T09:26:24.581206Z",
     "start_time": "2023-11-23T09:26:22.447382Z"
    }
   },
   "source": [
    "# What is the result and why (incl. shape)?\n",
    "x = torch.tensor([[1, 1, 1],\n",
    "                 [1, 1, 1]])\n",
    "torch.sum(x, dim=1, keepdim=True)\n",
    "\n",
    "# sum along the second axis, but the dimensions are kept"
   ],
   "execution_count": 113,
   "outputs": [
    {
     "data": {
      "text/plain": "tensor([[3],\n        [3]])"
     },
     "execution_count": 113,
     "metadata": {},
     "output_type": "execute_result"
    }
   ]
  },
  {
   "cell_type": "code",
   "metadata": {
    "id": "vQciiIOo81kn",
    "outputId": "3cc89b4c-1862-4da3-fb89-c166e002855b",
    "colab": {
     "base_uri": "https://localhost:8080/",
     "height": 34
    },
    "ExecuteTime": {
     "end_time": "2023-11-23T09:26:24.581357Z",
     "start_time": "2023-11-23T09:26:22.450955Z"
    }
   },
   "source": [
    "# What is the result and why?\n",
    "x = torch.tensor([[1, 2, 3],\n",
    "                 [1, 1, 1]], dtype=torch.float64)\n",
    "torch.linalg.vector_norm(x, ord=2, dim=1)\n",
    "\n",
    "# length of the vector; distance from the origin to the point X\n",
    "# [sqrt(14), sqrt(3)]"
   ],
   "execution_count": 114,
   "outputs": [
    {
     "data": {
      "text/plain": "tensor([3.7417, 1.7321], dtype=torch.float64)"
     },
     "execution_count": 114,
     "metadata": {},
     "output_type": "execute_result"
    }
   ]
  },
  {
   "cell_type": "code",
   "metadata": {
    "id": "sGgWPJOd9xk5",
    "outputId": "1ee69bd2-39a9-4bbf-eb84-f92ca740971f",
    "colab": {
     "base_uri": "https://localhost:8080/",
     "height": 34
    },
    "ExecuteTime": {
     "end_time": "2023-11-23T09:26:24.581574Z",
     "start_time": "2023-11-23T09:26:22.454559Z"
    }
   },
   "source": [
    "# What is the result and why?\n",
    "x = torch.tensor([[1, 2, 3],\n",
    "                 [1, 1, 1]], dtype=torch.float64)\n",
    "torch.linalg.vector_norm(x, ord=2)\n",
    "\n",
    "# length of the vector; distance from the origin to the point X\n",
    "# No axis given!\n",
    "# sqrt(17) -- it reduces all cells, so first all squared, summed\n",
    "# up, and sqrted"
   ],
   "execution_count": 115,
   "outputs": [
    {
     "data": {
      "text/plain": "tensor(4.1231, dtype=torch.float64)"
     },
     "execution_count": 115,
     "metadata": {},
     "output_type": "execute_result"
    }
   ]
  },
  {
   "cell_type": "code",
   "metadata": {
    "id": "kbReE8Vu_jJn",
    "outputId": "046ba6be-c20a-4605-881d-d63312822bbc",
    "colab": {
     "base_uri": "https://localhost:8080/",
     "height": 136
    },
    "ExecuteTime": {
     "end_time": "2023-11-23T09:26:24.581639Z",
     "start_time": "2023-11-23T09:26:22.457506Z"
    }
   },
   "source": [],
   "execution_count": 115,
   "outputs": []
  },
  {
   "cell_type": "code",
   "metadata": {
    "id": "sgIHZZNw_4_O",
    "outputId": "62a743bd-38e4-40db-eb6d-2853e3914e94",
    "colab": {
     "base_uri": "https://localhost:8080/",
     "height": 34
    },
    "ExecuteTime": {
     "end_time": "2023-11-23T09:26:24.581684Z",
     "start_time": "2023-11-23T09:26:22.459848Z"
    }
   },
   "source": [],
   "execution_count": 115,
   "outputs": []
  },
  {
   "cell_type": "code",
   "metadata": {
    "id": "q_JFSsB15WEc",
    "outputId": "bb99e4c0-7bbd-42cf-959b-f70dba052bc1",
    "colab": {
     "base_uri": "https://localhost:8080/",
     "height": 34
    },
    "ExecuteTime": {
     "end_time": "2023-11-23T09:26:24.581727Z",
     "start_time": "2023-11-23T09:26:22.461969Z"
    }
   },
   "source": [],
   "execution_count": 115,
   "outputs": []
  },
  {
   "cell_type": "code",
   "metadata": {
    "id": "3A0LBpz7Azgi",
    "outputId": "73420d3a-bc51-423a-e535-3d4a03ed676c",
    "colab": {
     "base_uri": "https://localhost:8080/",
     "height": 102
    },
    "ExecuteTime": {
     "end_time": "2023-11-23T09:26:24.581770Z",
     "start_time": "2023-11-23T09:26:22.464101Z"
    }
   },
   "source": [],
   "execution_count": 115,
   "outputs": []
  },
  {
   "cell_type": "code",
   "metadata": {
    "id": "G9IrInQIBHGS",
    "outputId": "50128b76-4e95-4cd4-8679-1ebcc28b06b1",
    "colab": {
     "base_uri": "https://localhost:8080/",
     "height": 68
    },
    "ExecuteTime": {
     "end_time": "2023-11-23T09:26:24.581811Z",
     "start_time": "2023-11-23T09:26:22.465836Z"
    }
   },
   "source": [],
   "execution_count": 115,
   "outputs": []
  },
  {
   "cell_type": "code",
   "metadata": {
    "id": "IEGsGxOHCo6a",
    "ExecuteTime": {
     "end_time": "2023-11-23T09:26:24.581852Z",
     "start_time": "2023-11-23T09:26:22.467617Z"
    }
   },
   "source": [],
   "execution_count": 115,
   "outputs": []
  },
  {
   "cell_type": "code",
   "metadata": {
    "id": "VJaV1nsgC3r-",
    "ExecuteTime": {
     "end_time": "2023-11-23T09:26:24.581892Z",
     "start_time": "2023-11-23T09:26:22.469567Z"
    }
   },
   "source": [],
   "execution_count": 115,
   "outputs": []
  },
  {
   "cell_type": "code",
   "metadata": {
    "id": "FyI0sf6QDjeH",
    "outputId": "ec3b528b-963c-4446-8bda-04c5b61a6dcb",
    "colab": {
     "base_uri": "https://localhost:8080/",
     "height": 85
    },
    "ExecuteTime": {
     "end_time": "2023-11-23T09:26:24.581932Z",
     "start_time": "2023-11-23T09:26:22.471675Z"
    }
   },
   "source": [],
   "execution_count": 115,
   "outputs": []
  },
  {
   "cell_type": "code",
   "metadata": {
    "id": "ZVdLY1yXhCBg",
    "outputId": "0f8fe548-1a02-458e-94bc-91d5f0736e23",
    "colab": {
     "base_uri": "https://localhost:8080/",
     "height": 34
    },
    "ExecuteTime": {
     "end_time": "2023-11-23T09:26:24.581972Z",
     "start_time": "2023-11-23T09:26:22.473614Z"
    }
   },
   "source": [],
   "execution_count": 115,
   "outputs": []
  },
  {
   "cell_type": "code",
   "metadata": {
    "id": "HpOR_GgjlCKm",
    "outputId": "c70a4b59-f6ea-4284-be2b-c3aa4ae99122",
    "colab": {
     "base_uri": "https://localhost:8080/",
     "height": 34
    },
    "ExecuteTime": {
     "end_time": "2023-11-23T09:26:24.589824Z",
     "start_time": "2023-11-23T09:26:22.475587Z"
    }
   },
   "source": [
    "# What is the output, shape, and dtype?\n",
    "torch.tensor([1.0, 3.0]) // torch.tensor(2.0)\n",
    "\n",
    "# Floor-division, with broadcasting"
   ],
   "execution_count": 116,
   "outputs": [
    {
     "data": {
      "text/plain": "tensor([0., 1.])"
     },
     "execution_count": 116,
     "metadata": {},
     "output_type": "execute_result"
    }
   ]
  },
  {
   "cell_type": "code",
   "metadata": {
    "id": "qmm5xud_loEY",
    "outputId": "3c7eaab8-7d7d-4d48-bb86-5bd0cabd0b0a",
    "colab": {
     "base_uri": "https://localhost:8080/",
     "height": 34
    },
    "ExecuteTime": {
     "end_time": "2023-11-23T09:26:24.590008Z",
     "start_time": "2023-11-23T09:26:22.478875Z"
    }
   },
   "source": [
    "# What is the output, shape, and dtype?\n",
    "torch.tensor(5.0) // torch.tensor([2.0, 0.5])\n",
    "\n",
    "# Floor-division, with broadcasting"
   ],
   "execution_count": 117,
   "outputs": [
    {
     "data": {
      "text/plain": "tensor([ 2., 10.])"
     },
     "execution_count": 117,
     "metadata": {},
     "output_type": "execute_result"
    }
   ]
  },
  {
   "cell_type": "markdown",
   "metadata": {
    "id": "KEHmqdTzHEJV"
   },
   "source": []
  },
  {
   "cell_type": "code",
   "metadata": {
    "id": "ob7jpySPHrZS",
    "outputId": "852e77c9-db27-49fc-943d-5e8af92bf1a5",
    "colab": {
     "base_uri": "https://localhost:8080/",
     "height": 34
    },
    "ExecuteTime": {
     "end_time": "2023-11-23T09:26:24.590066Z",
     "start_time": "2023-11-23T09:26:22.482070Z"
    }
   },
   "source": [],
   "execution_count": 117,
   "outputs": []
  },
  {
   "cell_type": "code",
   "metadata": {
    "id": "AeluqgzVH22Q",
    "outputId": "1b83cbda-d3b5-492e-b385-87e165f4ef56",
    "colab": {
     "base_uri": "https://localhost:8080/",
     "height": 68
    },
    "ExecuteTime": {
     "end_time": "2023-11-23T09:26:24.590160Z",
     "start_time": "2023-11-23T09:26:22.483890Z"
    }
   },
   "source": [
    "# What is the output, shape, and dtype?\n",
    "torch.tensor([2.0, 3.0]) % torch.tensor([[2.0], [3.0]])\n",
    "\n",
    "# Modulo, with broadcasting"
   ],
   "execution_count": 118,
   "outputs": [
    {
     "data": {
      "text/plain": "tensor([[0., 1.],\n        [2., 0.]])"
     },
     "execution_count": 118,
     "metadata": {},
     "output_type": "execute_result"
    }
   ]
  },
  {
   "cell_type": "code",
   "metadata": {
    "id": "oMVNXExJD99z",
    "outputId": "a7dc2c5d-5f5d-418b-a05e-8a7dc718aa91",
    "colab": {
     "base_uri": "https://localhost:8080/",
     "height": 34
    },
    "ExecuteTime": {
     "end_time": "2023-11-23T09:26:24.590211Z",
     "start_time": "2023-11-23T09:26:22.487320Z"
    }
   },
   "source": [],
   "execution_count": 118,
   "outputs": []
  },
  {
   "cell_type": "code",
   "metadata": {
    "id": "LUvSMcg0JNd1",
    "outputId": "9e35ad62-84ab-47fd-f062-9f7160ad976e",
    "colab": {
     "base_uri": "https://localhost:8080/",
     "height": 68
    },
    "ExecuteTime": {
     "end_time": "2023-11-23T09:26:24.590253Z",
     "start_time": "2023-11-23T09:26:22.488828Z"
    }
   },
   "source": [],
   "execution_count": 118,
   "outputs": []
  },
  {
   "cell_type": "code",
   "metadata": {
    "id": "1Sscdt5J2O51",
    "outputId": "8a9c2513-5442-4ece-c947-981e4eb69963",
    "colab": {
     "base_uri": "https://localhost:8080/",
     "height": 34
    },
    "ExecuteTime": {
     "end_time": "2023-11-23T09:26:24.590295Z",
     "start_time": "2023-11-23T09:26:22.490683Z"
    }
   },
   "source": [],
   "execution_count": 118,
   "outputs": []
  },
  {
   "cell_type": "code",
   "metadata": {
    "id": "D8qtg1os3O8K",
    "outputId": "6ab63e59-ea14-41ab-ff9d-0abe397c5336",
    "colab": {
     "base_uri": "https://localhost:8080/",
     "height": 34
    },
    "ExecuteTime": {
     "end_time": "2023-11-23T09:26:24.590356Z",
     "start_time": "2023-11-23T09:26:22.492676Z"
    }
   },
   "source": [],
   "execution_count": 118,
   "outputs": []
  },
  {
   "cell_type": "code",
   "metadata": {
    "id": "mEB6Q_cB3UrI",
    "outputId": "e36b65dc-5c82-4055-a394-1b08b7c78bb4",
    "colab": {
     "base_uri": "https://localhost:8080/",
     "height": 34
    },
    "ExecuteTime": {
     "end_time": "2023-11-23T09:26:24.590397Z",
     "start_time": "2023-11-23T09:26:22.494438Z"
    }
   },
   "source": [],
   "execution_count": 118,
   "outputs": []
  },
  {
   "cell_type": "code",
   "metadata": {
    "id": "njkZjg923dpk",
    "outputId": "f670db7e-69b4-489a-e252-591798a6cbc7",
    "colab": {
     "base_uri": "https://localhost:8080/",
     "height": 68
    },
    "ExecuteTime": {
     "end_time": "2023-11-23T09:26:24.590436Z",
     "start_time": "2023-11-23T09:26:22.495930Z"
    }
   },
   "source": [],
   "execution_count": 118,
   "outputs": []
  },
  {
   "cell_type": "code",
   "metadata": {
    "id": "I1XiSGQb3-zr",
    "ExecuteTime": {
     "end_time": "2023-11-23T09:26:24.590482Z",
     "start_time": "2023-11-23T09:26:22.498186Z"
    }
   },
   "source": [],
   "execution_count": 118,
   "outputs": []
  },
  {
   "cell_type": "code",
   "metadata": {
    "id": "Bcfb1F8ERVCU",
    "ExecuteTime": {
     "end_time": "2023-11-23T09:26:24.590521Z",
     "start_time": "2023-11-23T09:26:22.500047Z"
    }
   },
   "source": [],
   "execution_count": 118,
   "outputs": []
  },
  {
   "cell_type": "code",
   "metadata": {
    "id": "F1fVKu0HRXJA",
    "outputId": "85334af6-af4e-48b9-fb5f-bfbcc192a876",
    "colab": {
     "base_uri": "https://localhost:8080/",
     "height": 34
    },
    "ExecuteTime": {
     "end_time": "2023-11-23T09:26:24.590559Z",
     "start_time": "2023-11-23T09:26:22.501733Z"
    }
   },
   "source": [],
   "execution_count": 118,
   "outputs": []
  },
  {
   "cell_type": "code",
   "metadata": {
    "id": "bmUoUiR_RXkS",
    "outputId": "d5936d73-c33f-4403-b973-d42fb86dc53a",
    "colab": {
     "base_uri": "https://localhost:8080/",
     "height": 34
    },
    "ExecuteTime": {
     "end_time": "2023-11-23T09:26:24.590597Z",
     "start_time": "2023-11-23T09:26:22.503943Z"
    }
   },
   "source": [],
   "execution_count": 118,
   "outputs": []
  },
  {
   "cell_type": "code",
   "metadata": {
    "id": "OfT5UMNbRX9z",
    "outputId": "a95f84e6-43f9-49d0-b16e-0f7b9547006c",
    "colab": {
     "base_uri": "https://localhost:8080/",
     "height": 34
    },
    "ExecuteTime": {
     "end_time": "2023-11-23T09:26:24.590637Z",
     "start_time": "2023-11-23T09:26:22.505742Z"
    }
   },
   "source": [],
   "execution_count": 118,
   "outputs": []
  },
  {
   "cell_type": "code",
   "metadata": {
    "id": "LJntnvyWRYSH",
    "outputId": "86d19a0f-0231-410d-ec0d-7290e9e2e3d9",
    "colab": {
     "base_uri": "https://localhost:8080/",
     "height": 34
    },
    "ExecuteTime": {
     "end_time": "2023-11-23T09:26:24.590687Z",
     "start_time": "2023-11-23T09:26:22.507871Z"
    }
   },
   "source": [],
   "execution_count": 118,
   "outputs": []
  },
  {
   "cell_type": "code",
   "metadata": {
    "id": "XJPtJ7JsRYtN",
    "outputId": "20930ebb-9dc9-40e8-eb37-bf252df5540d",
    "colab": {
     "base_uri": "https://localhost:8080/",
     "height": 34
    },
    "ExecuteTime": {
     "end_time": "2023-11-23T09:26:24.590726Z",
     "start_time": "2023-11-23T09:26:22.510374Z"
    }
   },
   "source": [],
   "execution_count": 118,
   "outputs": []
  },
  {
   "cell_type": "code",
   "metadata": {
    "id": "MxNCQFbiTToz",
    "outputId": "7434e065-e33c-4f20-a5d3-ac62708a449f",
    "colab": {
     "base_uri": "https://localhost:8080/",
     "height": 68
    },
    "ExecuteTime": {
     "end_time": "2023-11-23T09:26:24.590764Z",
     "start_time": "2023-11-23T09:26:22.512481Z"
    }
   },
   "source": [],
   "execution_count": 118,
   "outputs": []
  },
  {
   "cell_type": "code",
   "metadata": {
    "id": "0H9z-jBoXe_m",
    "outputId": "64bb436c-6412-4faa-8baa-463716c2a4f7",
    "colab": {
     "base_uri": "https://localhost:8080/",
     "height": 68
    },
    "ExecuteTime": {
     "end_time": "2023-11-23T09:26:24.590802Z",
     "start_time": "2023-11-23T09:26:22.514531Z"
    }
   },
   "source": [],
   "execution_count": 118,
   "outputs": []
  },
  {
   "cell_type": "code",
   "metadata": {
    "id": "Ij4j_ptGY35j",
    "outputId": "5b245dd7-3279-437d-d8fe-a0cbf9e37bfd",
    "colab": {
     "base_uri": "https://localhost:8080/",
     "height": 34
    },
    "ExecuteTime": {
     "end_time": "2023-11-23T09:26:24.590840Z",
     "start_time": "2023-11-23T09:26:22.516288Z"
    }
   },
   "source": [],
   "execution_count": 118,
   "outputs": []
  },
  {
   "cell_type": "code",
   "metadata": {
    "id": "4YIJjuV8ZkQx",
    "outputId": "a9511649-338b-4262-d0cd-cb1bd2f9cff6",
    "colab": {
     "base_uri": "https://localhost:8080/",
     "height": 85
    },
    "ExecuteTime": {
     "end_time": "2023-11-23T09:26:24.590881Z",
     "start_time": "2023-11-23T09:26:22.518243Z"
    }
   },
   "source": [],
   "execution_count": 118,
   "outputs": []
  },
  {
   "cell_type": "code",
   "metadata": {
    "id": "D_hfXYCZZkpk",
    "outputId": "5ef8a5f3-1d93-47eb-bbd0-06212a069704",
    "colab": {
     "base_uri": "https://localhost:8080/",
     "height": 119
    },
    "ExecuteTime": {
     "end_time": "2023-11-23T09:26:24.590918Z",
     "start_time": "2023-11-23T09:26:22.520129Z"
    }
   },
   "source": [],
   "execution_count": 118,
   "outputs": []
  },
  {
   "cell_type": "code",
   "metadata": {
    "id": "G942tvZiZlHx",
    "outputId": "c403f633-2741-4779-d475-b6d17554dc72",
    "colab": {
     "base_uri": "https://localhost:8080/",
     "height": 102
    },
    "ExecuteTime": {
     "end_time": "2023-11-23T09:26:24.590959Z",
     "start_time": "2023-11-23T09:26:22.522188Z"
    }
   },
   "source": [],
   "execution_count": 118,
   "outputs": []
  },
  {
   "cell_type": "code",
   "metadata": {
    "id": "VOVCfQt7Zlfr",
    "outputId": "2e0ad896-5e64-43f2-9b61-2c75b4abd3a7",
    "colab": {
     "base_uri": "https://localhost:8080/",
     "height": 68
    },
    "ExecuteTime": {
     "end_time": "2023-11-23T09:26:24.590996Z",
     "start_time": "2023-11-23T09:26:22.523971Z"
    }
   },
   "source": [],
   "execution_count": 118,
   "outputs": []
  },
  {
   "cell_type": "code",
   "metadata": {
    "id": "nQkoMdBLpZd_",
    "outputId": "f77a203f-9a71-4b12-8059-b39f6c35661a",
    "colab": {
     "base_uri": "https://localhost:8080/",
     "height": 34
    },
    "ExecuteTime": {
     "end_time": "2023-11-23T09:26:24.591034Z",
     "start_time": "2023-11-23T09:26:22.525874Z"
    }
   },
   "source": [],
   "execution_count": 118,
   "outputs": []
  },
  {
   "cell_type": "code",
   "metadata": {
    "id": "RDoxf_M-G_A_",
    "outputId": "3de761d0-9ed1-4152-a514-512c21614850",
    "colab": {
     "base_uri": "https://localhost:8080/",
     "height": 68
    },
    "ExecuteTime": {
     "end_time": "2023-11-23T09:26:24.591121Z",
     "start_time": "2023-11-23T09:26:22.527675Z"
    }
   },
   "source": [
    "# What is the output and why?\n",
    "t = torch.tensor([[1, 2, 3], [4, 5, 6]])\n",
    "torch.ones_like(t)\n",
    "\n",
    "# Tensor of the same shape and type filled\n",
    "# with 1"
   ],
   "execution_count": 119,
   "outputs": [
    {
     "data": {
      "text/plain": "tensor([[1, 1, 1],\n        [1, 1, 1]])"
     },
     "execution_count": 119,
     "metadata": {},
     "output_type": "execute_result"
    }
   ]
  },
  {
   "cell_type": "code",
   "metadata": {
    "id": "Vi7SKhWGG_b2",
    "outputId": "005397bc-8174-46ca-b7e3-40362f5fece9",
    "colab": {
     "base_uri": "https://localhost:8080/",
     "height": 34
    },
    "ExecuteTime": {
     "end_time": "2023-11-23T09:26:24.591164Z",
     "start_time": "2023-11-23T09:26:22.530545Z"
    }
   },
   "source": [],
   "execution_count": 119,
   "outputs": []
  },
  {
   "cell_type": "code",
   "metadata": {
    "id": "1Sn4ozieHAXL",
    "ExecuteTime": {
     "end_time": "2023-11-23T09:26:24.591206Z",
     "start_time": "2023-11-23T09:26:22.532535Z"
    }
   },
   "source": [],
   "execution_count": 119,
   "outputs": []
  },
  {
   "cell_type": "code",
   "metadata": {
    "id": "pFPATuWaHBIH",
    "colab": {
     "base_uri": "https://localhost:8080/",
     "height": 85
    },
    "outputId": "c14904fc-790c-4c29-c217-4527ff00522f",
    "ExecuteTime": {
     "end_time": "2023-11-23T09:26:24.591245Z",
     "start_time": "2023-11-23T09:26:22.533883Z"
    }
   },
   "source": [],
   "execution_count": 119,
   "outputs": []
  },
  {
   "cell_type": "code",
   "metadata": {
    "id": "hUm6H8m0IaTe",
    "colab": {
     "base_uri": "https://localhost:8080/",
     "height": 85
    },
    "outputId": "235e778e-2036-4304-fea9-1c3e4496b96e",
    "ExecuteTime": {
     "end_time": "2023-11-23T09:26:24.591284Z",
     "start_time": "2023-11-23T09:26:22.535790Z"
    }
   },
   "source": [],
   "execution_count": 119,
   "outputs": []
  },
  {
   "cell_type": "code",
   "metadata": {
    "id": "88RxBlVSI6oH",
    "colab": {
     "base_uri": "https://localhost:8080/",
     "height": 85
    },
    "outputId": "8981a478-b246-4a49-95d4-c5e1658fe36b",
    "ExecuteTime": {
     "end_time": "2023-11-23T09:26:24.591322Z",
     "start_time": "2023-11-23T09:26:22.537076Z"
    }
   },
   "source": [],
   "execution_count": 119,
   "outputs": []
  },
  {
   "cell_type": "code",
   "metadata": {
    "id": "eCjgsdwcJVpO",
    "colab": {
     "base_uri": "https://localhost:8080/",
     "height": 119
    },
    "outputId": "c4cfad53-74f3-4806-970f-9ebbea3818c6",
    "ExecuteTime": {
     "end_time": "2023-11-23T09:26:24.591364Z",
     "start_time": "2023-11-23T09:26:22.538797Z"
    }
   },
   "source": [],
   "execution_count": 119,
   "outputs": []
  },
  {
   "cell_type": "code",
   "metadata": {
    "id": "X2Tq67KgJn_4",
    "ExecuteTime": {
     "end_time": "2023-11-23T09:26:24.591402Z",
     "start_time": "2023-11-23T09:26:22.540886Z"
    }
   },
   "source": [],
   "execution_count": 119,
   "outputs": []
  },
  {
   "cell_type": "markdown",
   "metadata": {
    "id": "gFDMJfEnKgDh"
   },
   "source": []
  },
  {
   "cell_type": "code",
   "metadata": {
    "id": "cLeeWVgh5YFd",
    "colab": {
     "base_uri": "https://localhost:8080/",
     "height": 215
    },
    "outputId": "75472127-bea2-4656-eef9-d42eab32b9c8",
    "ExecuteTime": {
     "end_time": "2023-11-23T09:26:24.591440Z",
     "start_time": "2023-11-23T09:26:22.542272Z"
    }
   },
   "source": [],
   "execution_count": 119,
   "outputs": []
  },
  {
   "cell_type": "code",
   "metadata": {
    "id": "hb4agDEZpzyU",
    "ExecuteTime": {
     "end_time": "2023-11-23T09:26:24.591494Z",
     "start_time": "2023-11-23T09:26:22.555952Z"
    }
   },
   "source": [],
   "execution_count": 119,
   "outputs": []
  },
  {
   "cell_type": "code",
   "metadata": {
    "id": "m67z7w16xi78",
    "ExecuteTime": {
     "end_time": "2023-11-23T09:26:24.591535Z",
     "start_time": "2023-11-23T09:26:22.558018Z"
    }
   },
   "source": [],
   "execution_count": 119,
   "outputs": []
  },
  {
   "cell_type": "code",
   "metadata": {
    "id": "rersQKP4MH6p",
    "ExecuteTime": {
     "end_time": "2023-11-23T09:26:24.591573Z",
     "start_time": "2023-11-23T09:26:22.560019Z"
    }
   },
   "source": [],
   "execution_count": 119,
   "outputs": []
  },
  {
   "cell_type": "code",
   "metadata": {
    "id": "nZhkmSKKOzEU",
    "ExecuteTime": {
     "end_time": "2023-11-23T09:26:24.591611Z",
     "start_time": "2023-11-23T09:26:22.561636Z"
    }
   },
   "source": [],
   "execution_count": 119,
   "outputs": []
  },
  {
   "cell_type": "code",
   "metadata": {
    "id": "263_0rZVW_S6",
    "ExecuteTime": {
     "end_time": "2023-11-23T09:26:24.591649Z",
     "start_time": "2023-11-23T09:26:22.563847Z"
    }
   },
   "source": [],
   "execution_count": 119,
   "outputs": []
  },
  {
   "cell_type": "code",
   "metadata": {
    "id": "YarkB2DUU2b4",
    "ExecuteTime": {
     "end_time": "2023-11-23T09:26:24.591687Z",
     "start_time": "2023-11-23T09:26:22.565408Z"
    }
   },
   "source": [],
   "execution_count": 119,
   "outputs": []
  },
  {
   "cell_type": "code",
   "metadata": {
    "id": "8sbj-DVbc_l9",
    "ExecuteTime": {
     "end_time": "2023-11-23T09:26:24.591728Z",
     "start_time": "2023-11-23T09:26:22.567716Z"
    }
   },
   "source": [],
   "execution_count": 119,
   "outputs": []
  },
  {
   "cell_type": "code",
   "metadata": {
    "id": "xSzSNpx0VhqG",
    "ExecuteTime": {
     "end_time": "2023-11-23T09:26:24.591767Z",
     "start_time": "2023-11-23T09:26:22.569101Z"
    }
   },
   "source": [],
   "execution_count": 119,
   "outputs": []
  },
  {
   "cell_type": "code",
   "metadata": {
    "id": "NuiI8pHxvh-n",
    "ExecuteTime": {
     "end_time": "2023-11-23T09:26:24.591806Z",
     "start_time": "2023-11-23T09:26:22.570967Z"
    }
   },
   "source": [],
   "execution_count": 119,
   "outputs": []
  },
  {
   "cell_type": "code",
   "metadata": {
    "id": "4-Ik_Q-HfeFB",
    "ExecuteTime": {
     "end_time": "2023-11-23T09:26:24.591843Z",
     "start_time": "2023-11-23T09:26:22.572599Z"
    }
   },
   "source": [],
   "execution_count": 119,
   "outputs": []
  },
  {
   "cell_type": "code",
   "metadata": {
    "id": "7HD40MIDT6Th",
    "ExecuteTime": {
     "end_time": "2023-11-23T09:26:24.591881Z",
     "start_time": "2023-11-23T09:26:22.574343Z"
    }
   },
   "source": [],
   "execution_count": 119,
   "outputs": []
  },
  {
   "cell_type": "code",
   "metadata": {
    "id": "Zl8acfEH0GLB",
    "ExecuteTime": {
     "end_time": "2023-11-23T09:26:24.591919Z",
     "start_time": "2023-11-23T09:26:22.576304Z"
    }
   },
   "source": [],
   "execution_count": 119,
   "outputs": []
  },
  {
   "cell_type": "code",
   "metadata": {
    "id": "x2n2wIagk8Z-",
    "ExecuteTime": {
     "end_time": "2023-11-23T09:26:24.591958Z",
     "start_time": "2023-11-23T09:26:22.578187Z"
    }
   },
   "source": [],
   "execution_count": 119,
   "outputs": []
  },
  {
   "cell_type": "code",
   "metadata": {
    "id": "tjz3MtHbv_xR",
    "ExecuteTime": {
     "end_time": "2023-11-23T09:26:24.591996Z",
     "start_time": "2023-11-23T09:26:22.580115Z"
    }
   },
   "source": [],
   "execution_count": 119,
   "outputs": []
  },
  {
   "cell_type": "code",
   "metadata": {
    "id": "QLrVzE29DooQ",
    "ExecuteTime": {
     "end_time": "2023-11-23T09:26:24.592038Z",
     "start_time": "2023-11-23T09:26:22.581535Z"
    }
   },
   "source": [],
   "execution_count": 119,
   "outputs": []
  },
  {
   "cell_type": "code",
   "metadata": {
    "id": "Yt2D8rBewAho",
    "ExecuteTime": {
     "end_time": "2023-11-23T09:26:24.592076Z",
     "start_time": "2023-11-23T09:26:22.583442Z"
    }
   },
   "source": [],
   "execution_count": 119,
   "outputs": []
  }
 ]
}
