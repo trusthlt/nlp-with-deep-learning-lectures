{
 "cells": [
  {
   "cell_type": "markdown",
   "id": "ec46880a",
   "metadata": {},
   "source": [
    "# Run The Next Cell \n",
    "Installing PyTorch is required here, you can pip it in your favourite python venv, or use anaconda/miniconda."
   ]
  },
  {
   "cell_type": "code",
   "execution_count": null,
   "id": "0073e4f9",
   "metadata": {},
   "outputs": [],
   "source": [
    "import torch\n",
    "print(\"PyTorch version:\", torch.__version__)"
   ]
  },
  {
   "cell_type": "markdown",
   "id": "73a7f906",
   "metadata": {},
   "source": [
    "## Creating Tensors\n",
    "\n",
    "Tensors are the fundamental data structure in PyTorch: generalizations of scalars, vectors, and matrices."
   ]
  },
  {
   "cell_type": "code",
   "execution_count": null,
   "id": "9f4f5d95",
   "metadata": {},
   "outputs": [],
   "source": [
    "t = torch.tensor([1, 2, 3, 4, 5, 6])\n",
    "print(t)\n",
    "print(\"Shape:\", t.shape)"
   ]
  },
  {
   "cell_type": "markdown",
   "id": "c518f341",
   "metadata": {},
   "source": [
    "### Experiment\n",
    "Create a 3×2 tensor from the numbers 1–6 using `torch.reshape()`."
   ]
  },
  {
   "cell_type": "code",
   "execution_count": null,
   "id": "6e400918",
   "metadata": {},
   "outputs": [],
   "source": [
    "t = torch.tensor([1, 2, 3, 4, 5, 6])\n",
    "t_reshaped = torch.reshape(t, (3, 2))\n",
    "print(t_reshaped)"
   ]
  },
  {
   "cell_type": "markdown",
   "id": "f14bb55d",
   "metadata": {},
   "source": [
    "### Question 1\n",
    "**Q:** Can you reshape the same tensor into shape `(2, 3, 1)`?  \n",
    "What will the output look like?\n",
    "\n",
    " **Your Solution:**"
   ]
  },
  {
   "cell_type": "code",
   "execution_count": null,
   "id": "2b795ba4",
   "metadata": {},
   "outputs": [],
   "source": []
  },
  {
   "cell_type": "markdown",
   "id": "6c17f19d",
   "metadata": {},
   "source": [
    "## Constant and Random Tensors\n",
    "\n",
    "PyTorch provides many convenient initializers."
   ]
  },
  {
   "cell_type": "code",
   "execution_count": null,
   "id": "b854049b",
   "metadata": {},
   "outputs": [],
   "source": [
    "print(torch.full((2, 3), 9))\n",
    "print(torch.ones((2, 3)))\n",
    "print(torch.zeros((2, 3)))\n",
    "print(torch.randn((2, 3)))"
   ]
  },
  {
   "cell_type": "markdown",
   "id": "b873416f",
   "metadata": {},
   "source": [
    "### Question 2\n",
    "Create a 4×4 tensor filled with 0.5.\n",
    "\n",
    "**Your Solution:**"
   ]
  },
  {
   "cell_type": "code",
   "execution_count": null,
   "id": "ff10910d",
   "metadata": {},
   "outputs": [],
   "source": []
  },
  {
   "cell_type": "markdown",
   "id": "2d07244b",
   "metadata": {},
   "source": [
    "## Stacking and Concatenation\n",
    "\n",
    "Combine smaller tensors into bigger ones."
   ]
  },
  {
   "cell_type": "code",
   "execution_count": null,
   "id": "5167d588",
   "metadata": {},
   "outputs": [],
   "source": [
    "x = torch.tensor([1, 4])\n",
    "y = torch.tensor([2, 5])\n",
    "z = torch.tensor([3, 6])\n",
    "\n",
    "print(torch.stack([x, y, z]))        # shape (3, 2)\n",
    "print(torch.stack([x, y, z], dim=1)) # shape (2, 3)"
   ]
  },
  {
   "cell_type": "markdown",
   "id": "7783aaf7",
   "metadata": {},
   "source": [
    "### Question 3\n",
    "Create three 1D tensors: `[1, 2]`, `[3, 4]`, `[5, 6]`. Stack them along `dim=1`.  \n",
    "What is the shape?\n",
    "\n",
    "**Your Solution:**"
   ]
  },
  {
   "cell_type": "code",
   "execution_count": null,
   "id": "838616fa",
   "metadata": {},
   "outputs": [],
   "source": []
  },
  {
   "cell_type": "markdown",
   "id": "86e98651",
   "metadata": {},
   "source": [
    "## Indexing and Slicing"
   ]
  },
  {
   "cell_type": "code",
   "execution_count": null,
   "id": "b7a61406",
   "metadata": {},
   "outputs": [],
   "source": [
    "t = torch.tensor([\n",
    "    [1, 2, 3],\n",
    "    [4, 5, 6],\n",
    "    [7, 8, 9]\n",
    "])\n",
    "\n",
    "print(t[0])         # first row\n",
    "print(t[:, 0])      # first column\n",
    "print(t[1:, 1:])    # lower-right submatrix\n",
    "print(t[::2, :])    # every second row"
   ]
  },
  {
   "cell_type": "markdown",
   "id": "e9df6984",
   "metadata": {},
   "source": [
    "### Question 4\n",
    "Extract the **center element** of the matrix above (`5`) using indexing.\n",
    "\n",
    "**Your Solution:**"
   ]
  },
  {
   "cell_type": "code",
   "execution_count": null,
   "id": "512c6165",
   "metadata": {},
   "outputs": [],
   "source": []
  },
  {
   "cell_type": "markdown",
   "id": "11ee7366",
   "metadata": {},
   "source": [
    "## Broadcasting and Arithmetic"
   ]
  },
  {
   "cell_type": "code",
   "execution_count": null,
   "id": "ec45e63e",
   "metadata": {},
   "outputs": [],
   "source": [
    "a = torch.tensor([[1, 2, 3], [4, 5, 6]])\n",
    "b = torch.tensor([10, 20, 30])\n",
    "a + b"
   ]
  },
  {
   "cell_type": "markdown",
   "id": "f4d50577",
   "metadata": {},
   "source": [
    "### Question 5\n",
    "Predict the result of:\n",
    "```python\n",
    "a = torch.tensor([[1], [2], [3]])\n",
    "b = torch.tensor([10, 20, 30])\n",
    "a + b\n",
    "```\n",
    "Then verify in code.\n",
    "\n",
    "**Your Solution:**"
   ]
  },
  {
   "cell_type": "code",
   "execution_count": null,
   "id": "0028a5d3",
   "metadata": {},
   "outputs": [],
   "source": []
  },
  {
   "cell_type": "markdown",
   "id": "7efdcfd3",
   "metadata": {},
   "source": [
    "## Matrix Multiplication"
   ]
  },
  {
   "cell_type": "code",
   "execution_count": null,
   "id": "85162c7c",
   "metadata": {},
   "outputs": [],
   "source": [
    "a = torch.tensor([[1, 2]])\n",
    "b = torch.tensor([[3], [4]])\n",
    "a @ b"
   ]
  },
  {
   "cell_type": "markdown",
   "id": "00331fda",
   "metadata": {},
   "source": [
    "### Question 6\n",
    "Write code to multiply a `(2, 3)` tensor by a `(3, 1)` tensor.  \n",
    "Check the shape and result.\n",
    "\n",
    "**Your Solution:**"
   ]
  },
  {
   "cell_type": "code",
   "execution_count": null,
   "id": "64d2c3ba",
   "metadata": {},
   "outputs": [],
   "source": []
  },
  {
   "cell_type": "markdown",
   "id": "4d4e6938",
   "metadata": {},
   "source": [
    "## Reductions"
   ]
  },
  {
   "cell_type": "code",
   "execution_count": null,
   "id": "7cecf537",
   "metadata": {},
   "outputs": [],
   "source": [
    "t = torch.tensor([[1, 5, 3], [4, 2, 6]])\n",
    "print(torch.max(t))             # max overall\n",
    "print(torch.max(t, dim=0))      # max per column\n",
    "print(torch.mean(t, dim=1))     # mean per row\n",
    "print(torch.sum(t, dim=1, keepdim=True))"
   ]
  },
  {
   "cell_type": "markdown",
   "id": "3f48b727",
   "metadata": {},
   "source": [
    "### Question 7\n",
    "Given:\n",
    "```python\n",
    "x = torch.tensor([[2., 2.], [1., 3.]])\n",
    "```\n",
    "Compute the mean across all elements, then along each row.\n",
    "\n",
    "**Your Solution:**"
   ]
  },
  {
   "cell_type": "code",
   "execution_count": null,
   "id": "e96c42e6",
   "metadata": {},
   "outputs": [],
   "source": []
  },
  {
   "cell_type": "markdown",
   "id": "0a7a608d",
   "metadata": {},
   "source": [
    "## Norms and Vector Lengths"
   ]
  },
  {
   "cell_type": "code",
   "execution_count": null,
   "id": "82f87082",
   "metadata": {},
   "outputs": [],
   "source": [
    "x = torch.tensor([[1, 2, 3], [4, 5, 6]], dtype=torch.float)\n",
    "torch.linalg.vector_norm(x, ord=2, dim=1)"
   ]
  },
  {
   "cell_type": "markdown",
   "id": "4c253246",
   "metadata": {},
   "source": [
    "### Question 8\n",
    "Compute the norm of the following tensor **without** specifying a dimension:\n",
    "```python\n",
    "x = torch.tensor([[3., 4.], [0., 5.]])\n",
    "```\n",
    "**Your Solution:**"
   ]
  },
  {
   "cell_type": "code",
   "execution_count": null,
   "id": "9c6ac7fc",
   "metadata": {},
   "outputs": [],
   "source": []
  },
  {
   "cell_type": "markdown",
   "id": "cc6abc7e",
   "metadata": {},
   "source": [
    "## Tensor Type and Dtype"
   ]
  },
  {
   "cell_type": "code",
   "execution_count": null,
   "id": "7eb55d1e",
   "metadata": {},
   "outputs": [],
   "source": [
    "t1 = torch.tensor([1, 2, 3])\n",
    "t2 = torch.tensor([1., 2., 3.])\n",
    "print(t1.dtype, t2.dtype)"
   ]
  },
  {
   "cell_type": "markdown",
   "id": "0569bf4d",
   "metadata": {},
   "source": [
    "###  Question 9\n",
    "Compute:\n",
    "```python\n",
    "torch.mean(torch.tensor([1, 0, 0]))\n",
    "```\n",
    "Why is the result an integer?  \n",
    "How can you fix it?\n",
    "\n",
    "**Your Solution:**"
   ]
  },
  {
   "cell_type": "code",
   "execution_count": null,
   "id": "83154563",
   "metadata": {},
   "outputs": [],
   "source": []
  },
  {
   "cell_type": "markdown",
   "id": "a0fd22aa",
   "metadata": {},
   "source": [
    "# Transfer Questions"
   ]
  },
  {
   "cell_type": "markdown",
   "id": "11237d11",
   "metadata": {},
   "source": [
    "### Question 1\n",
    "Create a `(4,4)` tensor filled with random integers from 1–9.  \n",
    "- Replace all even numbers with 0.  \n",
    "- Then compute the mean of the remaining numbers.\n",
    "\n",
    "**Your Solution:**"
   ]
  },
  {
   "cell_type": "code",
   "execution_count": null,
   "id": "43c00b91",
   "metadata": {},
   "outputs": [],
   "source": []
  },
  {
   "cell_type": "markdown",
   "id": "b499fd84",
   "metadata": {},
   "source": [
    "### Question 2\n",
    "Given:\n",
    "```python\n",
    "a = torch.arange(1, 13).reshape(3, 4)\n",
    "```\n",
    "- Extract the second column  \n",
    "- Compute its L2 norm  \n",
    "- Normalize it (divide by its norm)\n",
    "\n",
    "**Your Solution:**"
   ]
  },
  {
   "cell_type": "code",
   "execution_count": null,
   "id": "4562c1bd",
   "metadata": {},
   "outputs": [],
   "source": []
  },
  {
   "cell_type": "markdown",
   "id": "620d57fb",
   "metadata": {},
   "source": [
    "### Question 3\n",
    "Simulate broadcasting with two tensors:\n",
    "```python\n",
    "A = torch.arange(6).reshape(2,3)\n",
    "B = torch.tensor([[1], [2]])\n",
    "```\n",
    "What is the result of `A + B` and why?\n",
    "\n",
    "**Your Solution:**"
   ]
  },
  {
   "cell_type": "code",
   "execution_count": null,
   "id": "050359ea",
   "metadata": {},
   "outputs": [],
   "source": []
  },
  {
   "cell_type": "markdown",
   "id": "17b48f67",
   "metadata": {},
   "source": [
    "### Question 4\n",
    "Create two tensors of compatible shapes and perform a matrix multiplication that produces a `(3,3)` result.  \n",
    "Verify the output shape.\n",
    "\n",
    "**Your Solution:**"
   ]
  },
  {
   "cell_type": "code",
   "execution_count": null,
   "id": "2b33d5ba",
   "metadata": {},
   "outputs": [],
   "source": []
  },
  {
   "cell_type": "markdown",
   "id": "ade0f960",
   "metadata": {},
   "source": [
    "### Question 5\n",
    "Use a single expression to compute the **row-wise mean** of a `(4,4)` random tensor,  \n",
    "and then subtract this mean from each corresponding row (centering).\n",
    "\n",
    "**Your Solution:**"
   ]
  },
  {
   "cell_type": "code",
   "execution_count": null,
   "id": "5ec4b71f",
   "metadata": {},
   "outputs": [],
   "source": []
  },
  {
   "cell_type": "markdown",
   "id": "d3a1f7e3",
   "metadata": {},
   "source": [
    "### Question 6 – Working with 3D Tensors\n",
    "Let's step it up: create and manipulate **3D tensors**.\n",
    "\n",
    "**Tasks:**\n",
    "1. Create three tensors `A`, `B`, `C`, each of shape `(2, 2)` with random integers from 1–9.\n",
    "2. Stack them **along a new dimension** to form a 3D tensor of shape `(3, 2, 2)`.\n",
    "3. Compute the **sum along dimension 0**.\n",
    "4. Then, concatenate the original tensors **along dimension 1**, and observe how the shape changes.\n",
    "\n",
    "**Your Solution:**"
   ]
  },
  {
   "cell_type": "code",
   "execution_count": null,
   "id": "a0c4c63e",
   "metadata": {},
   "outputs": [],
   "source": []
  }
 ],
 "metadata": {
  "kernelspec": {
   "display_name": "teach (3.12.11)",
   "language": "python",
   "name": "python3"
  },
  "language_info": {
   "codemirror_mode": {
    "name": "ipython",
    "version": 3
   },
   "file_extension": ".py",
   "mimetype": "text/x-python",
   "name": "python",
   "nbconvert_exporter": "python",
   "pygments_lexer": "ipython3",
   "version": "3.12.11"
  }
 },
 "nbformat": 4,
 "nbformat_minor": 5
}
