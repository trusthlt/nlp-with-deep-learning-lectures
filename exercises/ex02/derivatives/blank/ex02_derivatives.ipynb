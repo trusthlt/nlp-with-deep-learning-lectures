{
 "cells": [
  {
   "cell_type": "markdown",
   "id": "2ffd9458",
   "metadata": {},
   "source": [
    "# Derivatives and Activation Functions"
   ]
  },
  {
   "cell_type": "markdown",
   "id": "468aa73a",
   "metadata": {},
   "source": [
    "## Run The Next Cell \n",
    "Like the tensors exercise, we are going to use torch! We also need another library for fun visuals: Matplotlib"
   ]
  },
  {
   "cell_type": "code",
   "execution_count": null,
   "id": "23d94abd",
   "metadata": {},
   "outputs": [],
   "source": [
    "import torch\n",
    "import matplotlib.pyplot as plt\n",
    "print('PyTorch version:', torch.__version__)"
   ]
  },
  {
   "cell_type": "markdown",
   "id": "45d45ae3",
   "metadata": {},
   "source": [
    "### Note: In case you are not familiar with writing math formulas using Markdown, it's time to learn!\n",
    "Here is a nice cheat sheet for that: https://www.upyesp.org/posts/makrdown-vscode-math-notation/"
   ]
  },
  {
   "cell_type": "markdown",
   "id": "2c3aeafe",
   "metadata": {},
   "source": [
    "## Derivatives Refresher\n",
    "Given a function $f(x)$, the derivative $f'(x)$ measures how much $f(x)$ changes when $x$ changes.\n",
    "\n",
    "**Exercise 1:** Derive the derivative of the following function:\n",
    "$$\n",
    "f(x) = 3x^3 - 2x^2 + 5x - 4\n",
    "$$"
   ]
  },
  {
   "cell_type": "markdown",
   "id": "aefb8a8a",
   "metadata": {},
   "source": [
    "**Your Solution:**"
   ]
  },
  {
   "cell_type": "markdown",
   "id": "57d93bd0",
   "metadata": {},
   "source": []
  },
  {
   "cell_type": "markdown",
   "id": "f21bf03e",
   "metadata": {},
   "source": [
    "**Exercise 2:** Write $f(x)$ and $f'(x)$ as two functions and try to visualize them.\n",
    "\n",
    "**Your Solution:**"
   ]
  },
  {
   "cell_type": "code",
   "execution_count": null,
   "id": "4ee751dc",
   "metadata": {},
   "outputs": [],
   "source": [
    "def f(x):\n",
    "    pass\n",
    "\n",
    "def f_prime(x):\n",
    "    pass\n",
    "\n",
    "\n",
    "# Only in this cell, the plotting is provided, for the next cells, you need to implement it yourself!\n",
    "\n",
    "x = torch.linspace(-3, 3, 100)\n",
    "\n",
    "plt.plot(x, f(x), label='f(x)')\n",
    "plt.plot(x, f_prime(x), label=\"f'(x)\")\n",
    "plt.legend()\n",
    "plt.title('Random Function and its Derivative')\n",
    "plt.grid(True)\n",
    "plt.show()"
   ]
  },
  {
   "cell_type": "markdown",
   "id": "8c5462d3",
   "metadata": {},
   "source": [
    "## Sigmoid Function\n",
    "The sigmoid function is defined as:\n",
    "$$\n",
    "\\sigma(x) = \\frac{1}{1 + e^{-x}}\n",
    "$$\n",
    "\n",
    "**Exercise 1:** Calculate its derivative and express it in terms of $\\sigma(x)$"
   ]
  },
  {
   "cell_type": "markdown",
   "id": "cd412728",
   "metadata": {},
   "source": [
    "**Your Solution:**\n"
   ]
  },
  {
   "cell_type": "markdown",
   "id": "b3a8a2b1",
   "metadata": {},
   "source": []
  },
  {
   "cell_type": "markdown",
   "id": "5fb4b359",
   "metadata": {},
   "source": [
    "**Exercise 1:** Implement the sigmoid function and its derivative, then visualize both.\n",
    "\n",
    "**Your Solution:**"
   ]
  },
  {
   "cell_type": "code",
   "execution_count": null,
   "id": "c432291d",
   "metadata": {},
   "outputs": [],
   "source": [
    "def sigmoid(x):\n",
    "    pass\n",
    "\n",
    "def sigmoid_derivative(x):\n",
    "    pass\n",
    "\n",
    "x = torch.linspace(-8, 8, 200)\n"
   ]
  },
  {
   "cell_type": "markdown",
   "id": "ceaefbb9",
   "metadata": {},
   "source": [
    "## 4. ReLU Function\n",
    "The Rectified Linear Unit (ReLU) is defined as:\n",
    "$$\n",
    "f(x) = \\max(0, x)\n",
    "$$\n",
    "\n",
    "**Exercise 1:** Calculate the derivative of ReLU."
   ]
  },
  {
   "cell_type": "markdown",
   "id": "afc4ee35",
   "metadata": {},
   "source": [
    "**Your Solution**"
   ]
  },
  {
   "cell_type": "markdown",
   "id": "87af0b89",
   "metadata": {},
   "source": []
  },
  {
   "cell_type": "markdown",
   "id": "ad8a64ff",
   "metadata": {},
   "source": [
    "**Exercise 2:** Implement ReLU and its derivative, then visualize both."
   ]
  },
  {
   "cell_type": "code",
   "execution_count": null,
   "id": "4a181b77",
   "metadata": {},
   "outputs": [],
   "source": [
    "def relu(x):\n",
    "    pass\n",
    "\n",
    "def relu_derivative(x):\n",
    "    pass\n",
    "\n",
    "x = torch.linspace(-5, 5, 200)"
   ]
  },
  {
   "cell_type": "markdown",
   "id": "97c2e4ad",
   "metadata": {},
   "source": [
    "## Binary Cross-Entropy Loss\n",
    "For a single prediction $y_{pred}$ and true label $y \\in \\{0, 1\\}$, the **binary cross-entropy loss** is:\n",
    "$$\n",
    "\\mathcal{L} = -[y \\log(y_{pred}) + (1 - y) \\log(1 - y_{pred})]\n",
    "$$\n"
   ]
  },
  {
   "cell_type": "markdown",
   "id": "f71dd334",
   "metadata": {},
   "source": [
    "**Exercise 1: calculate the derivative with respect to $y_{pred}$**\n",
    "\n",
    "**Your Solution:**"
   ]
  },
  {
   "cell_type": "markdown",
   "id": "38501bc2",
   "metadata": {},
   "source": []
  },
  {
   "cell_type": "markdown",
   "id": "6317ce8f",
   "metadata": {},
   "source": [
    "**Exercise 2:** Implement *BCE* and its derivative, then visualize both."
   ]
  },
  {
   "cell_type": "code",
   "execution_count": null,
   "id": "2c230ad7",
   "metadata": {},
   "outputs": [],
   "source": [
    "def binary_cross_entropy(y_pred, y):\n",
    "    eps = 1e-8\n",
    "    pass\n",
    "\n",
    "def bce_derivative(y_pred, y):\n",
    "    eps = 1e-8\n",
    "    pass\n",
    "\n",
    "y_pred = torch.linspace(0.01, 0.99, 100)\n",
    "\n",
    "for label in [0, 1]:\n",
    "    pass\n",
    "\n",
    "plt.title('Binary Cross-Entropy Loss')\n",
    "plt.legend(); plt.grid(True); plt.show()\n",
    "\n",
    "for label in [0, 1]:\n",
    "    pass\n",
    "\n",
    "plt.title('Derivative of BCE Loss')\n",
    "plt.legend(); plt.grid(True); plt.show()"
   ]
  }
 ],
 "metadata": {
  "kernelspec": {
   "display_name": "teach (3.12.11)",
   "language": "python",
   "name": "python3"
  },
  "language_info": {
   "codemirror_mode": {
    "name": "ipython",
    "version": 3
   },
   "file_extension": ".py",
   "mimetype": "text/x-python",
   "name": "python",
   "nbconvert_exporter": "python",
   "pygments_lexer": "ipython3",
   "version": "3.12.11"
  }
 },
 "nbformat": 4,
 "nbformat_minor": 5
}
